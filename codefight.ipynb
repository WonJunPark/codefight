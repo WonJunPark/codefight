{
  "nbformat": 4,
  "nbformat_minor": 0,
  "metadata": {
    "colab": {
      "name": "codefight.ipynb",
      "provenance": [],
      "collapsed_sections": [],
      "toc_visible": true,
      "include_colab_link": true
    },
    "kernelspec": {
      "display_name": "Python 3",
      "name": "python3"
    }
  },
  "cells": [
    {
      "cell_type": "markdown",
      "metadata": {
        "id": "view-in-github",
        "colab_type": "text"
      },
      "source": [
        "<a href=\"https://colab.research.google.com/github/WonJunPark/codefight/blob/master/codefight.ipynb\" target=\"_parent\"><img src=\"https://colab.research.google.com/assets/colab-badge.svg\" alt=\"Open In Colab\"/></a>"
      ]
    },
    {
      "cell_type": "markdown",
      "metadata": {
        "id": "ApFqTKmdws70",
        "colab_type": "text"
      },
      "source": [
        ""
      ]
    },
    {
      "cell_type": "markdown",
      "metadata": {
        "id": "Ta3AOcpDwuFH",
        "colab_type": "text"
      },
      "source": [
        "# Codefight 문제풀이 (1~60)\n",
        "https://app.codesignal.com/arcade/intro"
      ]
    },
    {
      "cell_type": "markdown",
      "metadata": {
        "id": "ffX17UFHw4IJ",
        "colab_type": "text"
      },
      "source": [
        "[1]  Write a function that returns the sum of two numbers."
      ]
    },
    {
      "cell_type": "code",
      "metadata": {
        "id": "2FkHpbS1wsdx",
        "colab_type": "code",
        "colab": {}
      },
      "source": [
        "function add(param1, param2) {\n",
        "    return param1+param2\n",
        "}"
      ],
      "execution_count": 0,
      "outputs": []
    },
    {
      "cell_type": "markdown",
      "metadata": {
        "id": "95uD10nAxAI1",
        "colab_type": "text"
      },
      "source": [
        "[2] Given a year, return the century it is in. The first century spans from the year 1 up to and including the year 100, the second - from the year 101 up to and including the year 200, etc."
      ]
    },
    {
      "cell_type": "code",
      "metadata": {
        "id": "tRjNRawbwsgq",
        "colab_type": "code",
        "colab": {}
      },
      "source": [
        "def centuryFromYear(year):\n",
        "    return (year-1)//100+1"
      ],
      "execution_count": 0,
      "outputs": []
    },
    {
      "cell_type": "markdown",
      "metadata": {
        "id": "kFBAUztIxHNx",
        "colab_type": "text"
      },
      "source": [
        "[3] Given the string, check if it is a palindrome."
      ]
    },
    {
      "cell_type": "code",
      "metadata": {
        "id": "ORtLq5M5xHW8",
        "colab_type": "code",
        "colab": {}
      },
      "source": [
        "def checkPalindrome(inputString):\n",
        "    flag = True\n",
        "\n",
        "    for i in range(int(len(inputString)/2)):\n",
        "        if inputString[i] != inputString[-1-i]:\n",
        "            flag = False\n",
        "            break\n",
        "    \n",
        "    return flag"
      ],
      "execution_count": 0,
      "outputs": []
    },
    {
      "cell_type": "code",
      "metadata": {
        "id": "HOLVFVxSxQ9n",
        "colab_type": "code",
        "colab": {}
      },
      "source": [
        "#best anwser\n",
        "def checkPalindrome(inputString):\n",
        "    return inputString == inputString[::-1]"
      ],
      "execution_count": 0,
      "outputs": []
    },
    {
      "cell_type": "markdown",
      "metadata": {
        "id": "dR097Ab_xy27",
        "colab_type": "text"
      },
      "source": [
        "[4] Given an array of integers, find the pair of adjacent elements that has the largest product and return that product."
      ]
    },
    {
      "cell_type": "code",
      "metadata": {
        "id": "2AUnKC8-xy8-",
        "colab_type": "code",
        "colab": {}
      },
      "source": [
        "def adjacentElementsProduct(inputArray):\n",
        "    max_array = []\n",
        "    \n",
        "    for i in range(len(inputArray)-1):\n",
        "        max_array.append(inputArray[i]*inputArray[i+1])\n",
        "    \n",
        "    return max(max_array)"
      ],
      "execution_count": 0,
      "outputs": []
    },
    {
      "cell_type": "code",
      "metadata": {
        "id": "SRyv08J3x3IR",
        "colab_type": "code",
        "colab": {}
      },
      "source": [
        "#best code\n",
        "def adjacentElementsProduct(inputArray):\n",
        "    return max([inputArray[i] * inputArray[i+1] for i in range(len(inputArray)-1)])"
      ],
      "execution_count": 0,
      "outputs": []
    },
    {
      "cell_type": "markdown",
      "metadata": {
        "id": "Eg8-K1G6x4ti",
        "colab_type": "text"
      },
      "source": [
        "[5] Below we will define an n-interesting polygon. Your task is to find the area of a polygon for a given n."
      ]
    },
    {
      "cell_type": "code",
      "metadata": {
        "id": "RCuE8nnmx41P",
        "colab_type": "code",
        "colab": {}
      },
      "source": [
        "def shapeArea(n):\n",
        "    x = 1\n",
        "    for i in range(n):\n",
        "        x += 4*(i)\n",
        "    return x\n"
      ],
      "execution_count": 0,
      "outputs": []
    },
    {
      "cell_type": "code",
      "metadata": {
        "id": "p3fy0MO_x89t",
        "colab_type": "code",
        "colab": {}
      },
      "source": [
        "#best code\n",
        "def shapeArea(n):\n",
        "    return n**2 + (n-1)**2"
      ],
      "execution_count": 0,
      "outputs": []
    },
    {
      "cell_type": "markdown",
      "metadata": {
        "id": "Hpx5PFaGx-Rv",
        "colab_type": "text"
      },
      "source": [
        "[6] Ratiorg got statues of different sizes as a present from CodeMaster for his birthday, each statue having an non-negative integer size. Since he likes to make things perfect, he wants to arrange them from smallest to largest so that each statue will be bigger than the previous one exactly by 1. He may need some additional statues to be able to accomplish that. Help him figure out the minimum number of additional statues needed."
      ]
    },
    {
      "cell_type": "code",
      "metadata": {
        "id": "ju1XRQWpx_3y",
        "colab_type": "code",
        "colab": {}
      },
      "source": [
        "def makeArrayConsecutive2(statues):\n",
        "    return max(statues)-min(statues)-len(statues)+1\n"
      ],
      "execution_count": 0,
      "outputs": []
    },
    {
      "cell_type": "markdown",
      "metadata": {
        "id": "gYpHT4czyBNP",
        "colab_type": "text"
      },
      "source": [
        "[7] Given a sequence of integers as an array, determine whether it is possible to obtain a strictly increasing sequence by removing no more than one element from the array. (hard)"
      ]
    },
    {
      "cell_type": "code",
      "metadata": {
        "id": "fx3vovc9yFQ8",
        "colab_type": "code",
        "colab": {}
      },
      "source": [
        "#best code\n",
        "def almostIncreasingSequence(sequence):\n",
        "    droppped = False\n",
        "    last = prev = min(sequence) - 1\n",
        "    for elm in sequence:\n",
        "        if elm <= last:\n",
        "            if droppped:\n",
        "                return False\n",
        "            else:\n",
        "                droppped = True\n",
        "            if elm <= prev:\n",
        "                prev = last\n",
        "            elif elm >= prev:\n",
        "                prev = last = elm\n",
        "        else:\n",
        "            prev, last = last, elm\n",
        "    return True\n"
      ],
      "execution_count": 0,
      "outputs": []
    },
    {
      "cell_type": "markdown",
      "metadata": {
        "id": "jrMcqvLeyVsn",
        "colab_type": "text"
      },
      "source": [
        "[8] After becoming famous, the CodeBots decided to move into a new building together. Each of the rooms has a different cost, and some of them are free, but there's a rumour that all the free rooms are haunted! Since the CodeBots are quite superstitious, they refuse to stay in any of the free rooms, or any of the rooms below any of the free rooms."
      ]
    },
    {
      "cell_type": "code",
      "metadata": {
        "id": "H_ZiSu_-yW9X",
        "colab_type": "code",
        "colab": {}
      },
      "source": [
        "def matrixElementsSum(matrix):\n",
        "    total = 0\n",
        "    for i in range(len(matrix)): #행\n",
        "        for j in range(len(matrix[0])): #열\n",
        "            if matrix[i][j] == 0:\n",
        "                for k in range(i,len(matrix)):\n",
        "                    matrix[k][j] = 0\n",
        "\n",
        "    for i in range(len(matrix)): #행\n",
        "        for j in range(len(matrix[0])): #열\n",
        "            total += matrix[i][j]\n",
        "\n",
        "    return total"
      ],
      "execution_count": 0,
      "outputs": []
    },
    {
      "cell_type": "code",
      "metadata": {
        "id": "uHbwua9pyaAY",
        "colab_type": "code",
        "colab": {}
      },
      "source": [
        "#best code\n",
        "def matrixElementsSum(m):\n",
        "    r = len(m)\n",
        "    c = len(m[0])\n",
        "    total=0\n",
        "    for j in range(c):\n",
        "        for i in range(r):\n",
        "            if m[i][j]!=0:\n",
        "                total+=m[i][j]\n",
        "            else:\n",
        "                break\n",
        "    return total"
      ],
      "execution_count": 0,
      "outputs": []
    },
    {
      "cell_type": "markdown",
      "metadata": {
        "id": "G5xK97OwyY3P",
        "colab_type": "text"
      },
      "source": [
        "[9] Given an array of strings, return another array containing all of its longest strings."
      ]
    },
    {
      "cell_type": "code",
      "metadata": {
        "id": "C0KSL2OGyfn2",
        "colab_type": "code",
        "colab": {}
      },
      "source": [
        "def allLongestStrings(inputArray):\n",
        "    s = inputArray\n",
        "    s_len = []\n",
        "    for i in range(len(s)):\n",
        "        s_len.append(len(s[i]))\n",
        "    s_max = max(s_len)\n",
        "    s_list = []\n",
        "    for i in range(len(s)):\n",
        "        if len(s[i]) == s_max:\n",
        "            s_list.append(s[i])\n",
        "    return s_list\n"
      ],
      "execution_count": 0,
      "outputs": []
    },
    {
      "cell_type": "code",
      "metadata": {
        "id": "9kutVvwuyg48",
        "colab_type": "code",
        "colab": {}
      },
      "source": [
        "#best code\n",
        "def allLongestStrings(inputArray):\n",
        "    m = max(len(s) for s in inputArray)\n",
        "    r = [s for s in inputArray if len(s) == m]\n",
        "    return r\n"
      ],
      "execution_count": 0,
      "outputs": []
    },
    {
      "cell_type": "markdown",
      "metadata": {
        "id": "tUWWqljTyj-U",
        "colab_type": "text"
      },
      "source": [
        "[10] Given two strings, find the number of common characters between them."
      ]
    },
    {
      "cell_type": "code",
      "metadata": {
        "id": "9uycnJgpynPA",
        "colab_type": "code",
        "colab": {}
      },
      "source": [
        "def commonCharacterCount(s1, s2):\n",
        "    #중복 제거후 리스트 넣기\n",
        "    s1_d = list(set(s1))\n",
        "    s2_d = list(set(s2))\n",
        "    #딕셔너리 선언\n",
        "    dic_s1 = {}\n",
        "    dic_s2 = {}\n",
        "    #딕셔너리에 단어와 단어개수를 입력\n",
        "    for i in s1_d:\n",
        "        #b\n",
        "        count = 0\n",
        "        for j in s1:\n",
        "            if i==j:\n",
        "                count+=1\n",
        "        dic_s1[i] = count\n",
        "\n",
        "    for i in s2_d:\n",
        "        #b\n",
        "        count = 0\n",
        "        for j in s2:\n",
        "            if i==j:\n",
        "                count+=1\n",
        "        dic_s2[i] = count\n",
        "\n",
        "    total = []\n",
        "    #중복된 값 리스트를 구함\n",
        "    for i,j in dic_s1.items():\n",
        "        for m,n in dic_s2.items():\n",
        "            if i == m:\n",
        "                if j>=n:\n",
        "                    total.append(n)\n",
        "                else:\n",
        "                    total.append(j)\n",
        "    #중복된 값들의 합을 리턴\n",
        "    return sum(total)"
      ],
      "execution_count": 0,
      "outputs": []
    },
    {
      "cell_type": "code",
      "metadata": {
        "id": "tkFH8G8VypeV",
        "colab_type": "code",
        "colab": {}
      },
      "source": [
        "#best code\n",
        "def commonCharacterCount(s1, s2):\n",
        "    com = [min(s1.count(i),s2.count(i)) for i in set(s1)]\n",
        "    return sum(com)\n"
      ],
      "execution_count": 0,
      "outputs": []
    },
    {
      "cell_type": "markdown",
      "metadata": {
        "id": "BKTer_4kyr80",
        "colab_type": "text"
      },
      "source": [
        "[11] Ticket numbers usually consist of an even number of digits. A ticket number is considered lucky if the sum of the first half of the digits is equal to the sum of the second half.\n",
        "Given a ticket number n, determine if it's lucky or not."
      ]
    },
    {
      "cell_type": "code",
      "metadata": {
        "id": "ZLgl7OtDyuR6",
        "colab_type": "code",
        "colab": {}
      },
      "source": [
        "def isLucky(n):\n",
        "    n_list = str(n)\n",
        "    a = 0\n",
        "    b = 0\n",
        "    for i in range(int(len(n_list)/2)):\n",
        "        a += int(n_list[i])\n",
        "        b += int(n_list[-1-i])\n",
        "    return a==b\n"
      ],
      "execution_count": 0,
      "outputs": []
    },
    {
      "cell_type": "code",
      "metadata": {
        "id": "ixBApEtyyv10",
        "colab_type": "code",
        "colab": {}
      },
      "source": [
        "#best code\n",
        "def isLucky(n):\n",
        "    s = str(n)\n",
        "    pivot = len(s)//2\n",
        "    left, right = s[:pivot], s[pivot:]\n",
        "    return sum(map(int, left)) == sum(map(int, right))\n"
      ],
      "execution_count": 0,
      "outputs": []
    },
    {
      "cell_type": "markdown",
      "metadata": {
        "id": "jNaltV2gyyjg",
        "colab_type": "text"
      },
      "source": [
        "[12] Some people are standing in a row in a park. There are trees between them which cannot be moved. Your task is to rearrange the people by their heights in a non-descending order without moving the trees. People can be very tall!"
      ]
    },
    {
      "cell_type": "code",
      "metadata": {
        "id": "5MkBve-wy0BX",
        "colab_type": "code",
        "colab": {}
      },
      "source": [
        "def sortByHeight(a):\n",
        "    #사람의 인덱스를 받을 리스트\n",
        "    p_list = []\n",
        "    #사람 키 값을 받을 리스트\n",
        "    h_list = []\n",
        "    #사람의 인덱스와 사람 키값을 리스트에 저장\n",
        "    for i in range(len(a)):\n",
        "        if a[i] != -1:\n",
        "            p_list.append(i)\n",
        "            h_list.append(a[i])\n",
        "    #사람 키 값을 정렬\n",
        "    h_list = sorted(h_list)\n",
        "    \n",
        "    #사람 키만 오름차순으로 정렬\n",
        "    count = 0\n",
        "    for i in p_list:\n",
        "        a[i] = h_list[count]\n",
        "        count += 1\n",
        "    \n",
        "    return a"
      ],
      "execution_count": 0,
      "outputs": []
    },
    {
      "cell_type": "code",
      "metadata": {
        "id": "67COpc5Yy14a",
        "colab_type": "code",
        "colab": {}
      },
      "source": [
        "#best code\n",
        "def sortByHeight(a):\n",
        "\n",
        "    l = sorted([i for i in a if i > 0])\n",
        "    for n,i in enumerate(a):\n",
        "        if i == -1:\n",
        "            l.insert(n,i)\n",
        "    return l\n"
      ],
      "execution_count": 0,
      "outputs": []
    },
    {
      "cell_type": "markdown",
      "metadata": {
        "id": "XgEASBbWy3q-",
        "colab_type": "text"
      },
      "source": [
        "[13] Write a function that reverses characters in (possibly nested) parentheses in the input string. (hard)"
      ]
    },
    {
      "cell_type": "code",
      "metadata": {
        "id": "2Lkwh_45y7e1",
        "colab_type": "code",
        "colab": {}
      },
      "source": [
        "def reverseInParentheses(inputString):\n",
        "\n",
        "    s = inputString\n",
        "\n",
        "    while '(' in s : #괄호가 다 없어질때까지 반복\n",
        "        fb = s.rfind('(') # rfind : 뒤에서부터 문자열 탐색\n",
        "        bb = s[fb:].find(')') #find : 앞에서부터 문자열 탐색\n",
        "        s = s[:fb] + s[fb+1:fb+bb][::-1] + s[fb+bb+1:] #부분적으로 슬라이스 가능\n",
        "\n",
        "    return s"
      ],
      "execution_count": 0,
      "outputs": []
    },
    {
      "cell_type": "code",
      "metadata": {
        "id": "ek5nYVBHy82f",
        "colab_type": "code",
        "colab": {}
      },
      "source": [
        "#best code\n",
        "def reverseInParentheses(s):\n",
        "    return eval('\"' + s.replace('(', '\"+(\"').replace(')', '\")[::-1]+\"') + '\"')\n"
      ],
      "execution_count": 0,
      "outputs": []
    },
    {
      "cell_type": "markdown",
      "metadata": {
        "id": "tBhMQMIvy_nk",
        "colab_type": "text"
      },
      "source": [
        "[14] Several people are standing in a row and need to be divided into two teams. The first person goes into team 1, the second goes into team 2, the third goes into team 1 again, the fourth into team 2, and so on. You are given an array of positive integers - the weights of the people. Return an array of two integers, where the first element is the total weight of team 1, and the second element is the total weight of team 2 after the division is complete"
      ]
    },
    {
      "cell_type": "code",
      "metadata": {
        "id": "VSWkU9ULzBa-",
        "colab_type": "code",
        "colab": {}
      },
      "source": [
        "def alternatingSums(a):\n",
        "    b = []\n",
        "    c = []\n",
        "    for i in range(len(a)):\n",
        "        if i%2 == 0:\n",
        "            b.append(a[i])\n",
        "        else:\n",
        "            c.append(a[i])\n",
        "    return [sum(b),sum(c)]\n"
      ],
      "execution_count": 0,
      "outputs": []
    },
    {
      "cell_type": "code",
      "metadata": {
        "id": "dS4OMVUCzEYK",
        "colab_type": "code",
        "colab": {}
      },
      "source": [
        "#best code\n",
        "def alternatingSums(a):\n",
        "\n",
        "    return [sum(a[::2]),sum(a[1::2])]"
      ],
      "execution_count": 0,
      "outputs": []
    },
    {
      "cell_type": "markdown",
      "metadata": {
        "id": "sRFJNMXgzG5E",
        "colab_type": "text"
      },
      "source": [
        "[15] Given a rectangular matrix of characters, add a border of asterisks(*) to it."
      ]
    },
    {
      "cell_type": "code",
      "metadata": {
        "id": "4UD664P4zIZb",
        "colab_type": "code",
        "colab": {}
      },
      "source": [
        "def addBorder(picture):\n",
        "    p = picture\n",
        "    up_down = \"\"\n",
        "    #위 아래 별\n",
        "    for i in range(len(p[0])):\n",
        "        up_down += \"*\"\n",
        "\n",
        "    p.insert(0,up_down)\n",
        "    p.insert(len(p),up_down)\n",
        "\n",
        "    #사이드 별\n",
        "    for i in range(len(p)):\n",
        "        p[i] = \"*\"+p[i]+\"*\"\n",
        "    \n",
        "    return p"
      ],
      "execution_count": 0,
      "outputs": []
    },
    {
      "cell_type": "code",
      "metadata": {
        "id": "72aCxNowzJyX",
        "colab_type": "code",
        "colab": {}
      },
      "source": [
        "#best code\n",
        "def addBorder(picture):\n",
        "    l=len(picture[0])+2\n",
        "    return [\"*\"*l]+[x.center(l,\"*\") for x in picture]+[\"*\"*l] \n",
        "#center, 리스트 앞뒤로 해당 문자를 채워줌"
      ],
      "execution_count": 0,
      "outputs": []
    },
    {
      "cell_type": "markdown",
      "metadata": {
        "id": "6_oiYNCuzN34",
        "colab_type": "text"
      },
      "source": [
        "[16] Two arrays are called similar if one can be obtained from another by swapping at most one pair of elements in one of the arrays. (hard)"
      ]
    },
    {
      "cell_type": "code",
      "metadata": {
        "id": "6tX12No0zQDz",
        "colab_type": "code",
        "colab": {}
      },
      "source": [
        "def areSimilar(a, b):\n",
        "    return sorted(a) == sorted(b) and sum([i != j for i,j in zip(a,b)])<3"
      ],
      "execution_count": 0,
      "outputs": []
    },
    {
      "cell_type": "code",
      "metadata": {
        "id": "rW9t4gYNzRds",
        "colab_type": "code",
        "colab": {}
      },
      "source": [
        "#best code\n",
        "from collections import Counter as C\n",
        "\n",
        "def areSimilar(A, B):\n",
        "    return C(A) == C(B) and sum(a != b for a, b in zip(A, B)) < 3\n"
      ],
      "execution_count": 0,
      "outputs": []
    },
    {
      "cell_type": "markdown",
      "metadata": {
        "id": "H1HsToavzViq",
        "colab_type": "text"
      },
      "source": [
        "[17] You are given an array of integers. On each move you are allowed to increase exactly one of its element by one. Find the minimal number of moves required to obtain a strictly increasing sequence from the input."
      ]
    },
    {
      "cell_type": "code",
      "metadata": {
        "id": "A_7sBHZTzX0r",
        "colab_type": "code",
        "colab": {}
      },
      "source": [
        "def arrayChange(inputArray):\n",
        "    a = inputArray\n",
        "    total = 0\n",
        "\n",
        "    for i in range(len(a)-1):\n",
        "        if a[i] >= a[i+1]:\n",
        "            f = a[i]-a[i+1]+1\n",
        "            a[i+1] = a[i]+1\n",
        "            total += f\n",
        "            \n",
        "    return total"
      ],
      "execution_count": 0,
      "outputs": []
    },
    {
      "cell_type": "code",
      "metadata": {
        "id": "DXwz1zT6zZGC",
        "colab_type": "code",
        "colab": {}
      },
      "source": [
        "#best code\n",
        "def arrayChange(inputArray):\n",
        "    a = 0\n",
        "    for i in range(1, len(inputArray)):\n",
        "        if inputArray[i] <= inputArray[i - 1]:\n",
        "            f = (inputArray[i - 1] - inputArray[i]) + 1\n",
        "            inputArray[i] = inputArray[i - 1] + 1\n",
        "            a += f\n",
        "    return a"
      ],
      "execution_count": 0,
      "outputs": []
    },
    {
      "cell_type": "markdown",
      "metadata": {
        "id": "6YZclui3zcQE",
        "colab_type": "text"
      },
      "source": [
        "[18] Given a string, find out if its characters can be rearranged to form a palindrome."
      ]
    },
    {
      "cell_type": "code",
      "metadata": {
        "id": "O-lP1TUPzlIU",
        "colab_type": "code",
        "colab": {}
      },
      "source": [
        "def palindromeRearranging(inputString):\n",
        "    s = inputString\n",
        "    count = []\n",
        "\n",
        "    if len(s) % 2 == 1:\n",
        "        for i in p:\n",
        "            count.append(s.count(i))\n",
        "\n",
        "        flag = 0\n",
        "        for j in count:\n",
        "            if j%2 == 1:\n",
        "                flag += 1\n",
        "\n",
        "        if flag <2:\n",
        "            return True\n",
        "        else:\n",
        "            return False\n",
        "\n",
        "    else:\n",
        "        for i in p:\n",
        "            count.append(s.count(i))\n",
        "\n",
        "        flag = 0\n",
        "        for j in count:\n",
        "            if j%2 == 1:\n",
        "                flag += 1\n",
        "\n",
        "        if flag <1:\n",
        "            return True\n",
        "        else:\n",
        "            return False\n"
      ],
      "execution_count": 0,
      "outputs": []
    },
    {
      "cell_type": "code",
      "metadata": {
        "id": "n-fcGv9_zmqD",
        "colab_type": "code",
        "colab": {}
      },
      "source": [
        "#best code\n",
        "def palindromeRearranging(inputString):\n",
        "\n",
        "    return sum([inputString.count(i)%2 for i in set(inputString)]) <= 1"
      ],
      "execution_count": 0,
      "outputs": []
    },
    {
      "cell_type": "markdown",
      "metadata": {
        "id": "a3qQ8P7wzpi1",
        "colab_type": "text"
      },
      "source": [
        "[19] Call two arms equally strong if the heaviest weights they each are able to lift are equal.\n",
        "\n",
        "Call two people equally strong if their strongest arms are equally strong (the strongest arm can be both the right and the left), and so are their weakest arms.\n",
        "\n",
        "Given your and your friend's arms' lifting capabilities find out if you two are equally strong."
      ]
    },
    {
      "cell_type": "code",
      "metadata": {
        "id": "tlAFjkixzo46",
        "colab_type": "code",
        "colab": {}
      },
      "source": [
        "def areEquallyStrong(yourLeft, yourRight, friendsLeft, friendsRight):\n",
        "    if yourLeft+yourRight == friendsLeft+friendsRight:\n",
        "        if yourLeft == friendsLeft or yourLeft == friendsRight:\n",
        "            return True\n",
        "        else:\n",
        "            return False\n",
        "    else:\n",
        "        return False\n"
      ],
      "execution_count": 0,
      "outputs": []
    },
    {
      "cell_type": "code",
      "metadata": {
        "id": "vK9uJMsQzvFO",
        "colab_type": "code",
        "colab": {}
      },
      "source": [
        "#best code\n",
        "def areEquallyStrong(yourLeft, yourRight, friendsLeft, friendsRight):\n",
        "    return {yourLeft, yourRight} == {friendsLeft, friendsRight}"
      ],
      "execution_count": 0,
      "outputs": []
    },
    {
      "cell_type": "markdown",
      "metadata": {
        "id": "EpMq06UMzxs4",
        "colab_type": "text"
      },
      "source": [
        "[20] Given an array of integers, find the maximal absolute difference between any two of its adjacent elements."
      ]
    },
    {
      "cell_type": "code",
      "metadata": {
        "id": "kA29lvOPzzg4",
        "colab_type": "code",
        "colab": {}
      },
      "source": [
        "def arrayMaximalAdjacentDifference(inputArray):\n",
        "    a = inputArray\n",
        "    max_a = abs(a[0]-a[1])\n",
        "    for i in range(len(a)-1):\n",
        "        if abs(a[i]-a[i+1]) > max_a:\n",
        "            max_a = abs(a[i]-a[i+1])\n",
        "    return max_a\n"
      ],
      "execution_count": 0,
      "outputs": []
    },
    {
      "cell_type": "code",
      "metadata": {
        "id": "p5Iag7vMz54o",
        "colab_type": "code",
        "colab": {}
      },
      "source": [
        "#best code\n",
        "def arrayMaximalAdjacentDifference(a):\n",
        "    diffs=[abs(a[i]-a[i+1]) for i in range(len(a)-1)]\n",
        "    return max(diffs)"
      ],
      "execution_count": 0,
      "outputs": []
    },
    {
      "cell_type": "markdown",
      "metadata": {
        "id": "PScig_Hez8VR",
        "colab_type": "text"
      },
      "source": [
        "[21] An IP address is a numerical label assigned to each device (e.g., computer, printer) participating in a computer network that uses the Internet Protocol for communication. There are two versions of the Internet protocol, and thus two versions of addresses. One of them is the IPv4 address."
      ]
    },
    {
      "cell_type": "code",
      "metadata": {
        "id": "D_KhlTZ-z99S",
        "colab_type": "code",
        "colab": {}
      },
      "source": [
        "def isIPv4Address(inputString):\n",
        "    a = inputString\n",
        "    a_split = a.split(\".\")\n",
        "    flag = True\n",
        "    if len(a_split) == 4:\n",
        "        for i in range(4):\n",
        "            if a_split[i].isdigit():\n",
        "                if int(a_split[i]) < 0 or int(a_split[i]) > 255:\n",
        "                    flag = False\n",
        "                    break\n",
        "            else:\n",
        "                flag = False\n",
        "                break\n",
        "    else:\n",
        "        flag = False\n",
        "\n",
        "    return flag"
      ],
      "execution_count": 0,
      "outputs": []
    },
    {
      "cell_type": "code",
      "metadata": {
        "id": "uSPtmxP2z_mv",
        "colab_type": "code",
        "colab": {}
      },
      "source": [
        "#best code\n",
        "def isIPv4Address(s):\n",
        "    p = s.split('.')\n",
        "\n",
        "    return len(p) == 4 and all(n.isdigit() and 0 <= int(n) < 256 for n in p)"
      ],
      "execution_count": 0,
      "outputs": []
    },
    {
      "cell_type": "markdown",
      "metadata": {
        "id": "hsVatxm-0D5m",
        "colab_type": "text"
      },
      "source": [
        "[22] You are given an array of integers representing coordinates of obstacles situated on a straight line. Assume that you are jumping from the point with coordinate 0 to the right. You are allowed only to make jumps of the same length represented by some integer. Find the minimal length of the jump enough to avoid all the obstacles."
      ]
    },
    {
      "cell_type": "code",
      "metadata": {
        "id": "RV2aNIwg0GJ1",
        "colab_type": "code",
        "colab": {}
      },
      "source": [
        "def avoidObstacles(inputArray):\n",
        "    a = inputArray\n",
        "    start = 0\n",
        "    jump = 1\n",
        "\n",
        "    while(1):\n",
        "        start += jump\n",
        "        if start in a:\n",
        "            jump += 1\n",
        "            start = 0\n",
        "        if start > max(a):\n",
        "            break\n",
        "    return jump"
      ],
      "execution_count": 0,
      "outputs": []
    },
    {
      "cell_type": "code",
      "metadata": {
        "id": "XPyARzT20HjJ",
        "colab_type": "code",
        "colab": {}
      },
      "source": [
        "#best code\n",
        "def avoidObstacles(inputArray):\n",
        "    c = 2\n",
        "    while True:\n",
        "        if sorted([i%c for i in inputArray])[0]>0:\n",
        "            return c\n",
        "        c += 1"
      ],
      "execution_count": 0,
      "outputs": []
    },
    {
      "cell_type": "markdown",
      "metadata": {
        "id": "ltkVkXtI0JMD",
        "colab_type": "text"
      },
      "source": [
        "[23] Last night you partied a little too hard. Now there's a black and white photo of you that's about to go viral! You can't let this ruin your reputation, so you want to apply the box blur algorithm to the photo to hide its content."
      ]
    },
    {
      "cell_type": "code",
      "metadata": {
        "id": "jRT6Gbz-0KZ2",
        "colab_type": "code",
        "colab": {}
      },
      "source": [
        "def boxBlur(image):\n",
        "    c_max = len(image[0])-2\n",
        "    r_max = len(image)-2\n",
        "    total_box = []\n",
        "\n",
        "    for r in range(r_max):\n",
        "        box = []\n",
        "        for c in range(c_max):\n",
        "            sum_box = 0\n",
        "            for i in range(0+r,3+r):\n",
        "                for j in range(0+c,3+c):\n",
        "                    sum_box += image[i][j]\n",
        "            box.append(int(sum_box/9))\n",
        "        total_box.append(box)\n",
        "    return total_box"
      ],
      "execution_count": 0,
      "outputs": []
    },
    {
      "cell_type": "code",
      "metadata": {
        "id": "U-XQtnUI0L-s",
        "colab_type": "code",
        "colab": {}
      },
      "source": [
        "#best code\n",
        "def boxBlur(m):\n",
        "    r = len(m)\n",
        "    c = len(m[0])\n",
        "    ans = []\n",
        "    for i in range(1,r-1):\n",
        "        row=[]\n",
        "        for j in range(1,c-1):\n",
        "            row.append(sum([m[i+k][j+l] for k in [-1,0,1] for l in [-1,0,1]])//9)\n",
        "        ans.append(row)\n",
        "    return ans"
      ],
      "execution_count": 0,
      "outputs": []
    },
    {
      "cell_type": "markdown",
      "metadata": {
        "id": "oiDYpei20OTN",
        "colab_type": "text"
      },
      "source": [
        "[24] In the popular Minesweeper game you have a board with some mines and those cells that don't contain a mine have a number in it that indicates the total number of mines in the neighboring cells. Starting off with some arrangement of mines we want to create a Minesweeper game setup. (hard)"
      ]
    },
    {
      "cell_type": "code",
      "metadata": {
        "id": "sK22zr9B0RZO",
        "colab_type": "code",
        "colab": {}
      },
      "source": [
        "def minesweeper(matrix):\n",
        "    m = matrix\n",
        "    r = []\n",
        "    row = len(m)\n",
        "    col = len(m[0])\n",
        "    for i in range(row):\n",
        "        r.append([])\n",
        "        for j in range(col):\n",
        "            l = -m[i][j]\n",
        "            for x in [-1,0,1]:\n",
        "                for y in [-1,0,1]:\n",
        "                    if 0 <= i+x < row and 0 <= j+y < col:\n",
        "                        l += m[i+x][j+y]\n",
        "            r[i].append(l)\n",
        "    return r"
      ],
      "execution_count": 0,
      "outputs": []
    },
    {
      "cell_type": "code",
      "metadata": {
        "id": "w-RKvpuG0SN5",
        "colab_type": "code",
        "colab": {}
      },
      "source": [
        "#best code\n",
        "def minesweeper(matrix):\n",
        "\n",
        "    r = []\n",
        "    \n",
        "    for i in range(len(matrix)):\n",
        "        r.append([])\n",
        "        for j in range(len(matrix[0])):\n",
        "            l = -matrix[i][j]\n",
        "            for x in [-1,0,1]:\n",
        "                for y in [-1,0,1]:\n",
        "                    if 0<=i+x<len(matrix) and 0<=j+y<len(matrix[0]):\n",
        "                        l += matrix[i+x][j+y]\n",
        "\n",
        "            r[i].append(l)\n",
        "    return r\n"
      ],
      "execution_count": 0,
      "outputs": []
    },
    {
      "cell_type": "markdown",
      "metadata": {
        "id": "342wV7IM0Ugk",
        "colab_type": "text"
      },
      "source": [
        ""
      ]
    }
  ]
}