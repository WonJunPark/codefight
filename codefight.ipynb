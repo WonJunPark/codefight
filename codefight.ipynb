{
  "nbformat": 4,
  "nbformat_minor": 0,
  "metadata": {
    "colab": {
      "name": "codefight.ipynb",
      "provenance": [],
      "collapsed_sections": [],
      "toc_visible": true,
      "include_colab_link": true
    },
    "kernelspec": {
      "display_name": "Python 3",
      "name": "python3"
    }
  },
  "cells": [
    {
      "cell_type": "markdown",
      "metadata": {
        "id": "view-in-github",
        "colab_type": "text"
      },
      "source": [
        "<a href=\"https://colab.research.google.com/github/WonJunPark/codefight/blob/master/codefight.ipynb\" target=\"_parent\"><img src=\"https://colab.research.google.com/assets/colab-badge.svg\" alt=\"Open In Colab\"/></a>"
      ]
    },
    {
      "cell_type": "markdown",
      "metadata": {
        "id": "ApFqTKmdws70",
        "colab_type": "text"
      },
      "source": [
        ""
      ]
    },
    {
      "cell_type": "markdown",
      "metadata": {
        "id": "Ta3AOcpDwuFH",
        "colab_type": "text"
      },
      "source": [
        "# Codefight 문제풀이 (1~60)\n",
        "https://app.codesignal.com/arcade/intro"
      ]
    },
    {
      "cell_type": "markdown",
      "metadata": {
        "id": "ffX17UFHw4IJ",
        "colab_type": "text"
      },
      "source": [
        "[1]  Write a function that returns the sum of two numbers."
      ]
    },
    {
      "cell_type": "code",
      "metadata": {
        "id": "2FkHpbS1wsdx",
        "colab_type": "code",
        "colab": {}
      },
      "source": [
        "function add(param1, param2) {\n",
        "    return param1+param2\n",
        "}"
      ],
      "execution_count": 0,
      "outputs": []
    },
    {
      "cell_type": "markdown",
      "metadata": {
        "id": "95uD10nAxAI1",
        "colab_type": "text"
      },
      "source": [
        "[2] Given a year, return the century it is in. The first century spans from the year 1 up to and including the year 100, the second - from the year 101 up to and including the year 200, etc."
      ]
    },
    {
      "cell_type": "code",
      "metadata": {
        "id": "tRjNRawbwsgq",
        "colab_type": "code",
        "colab": {}
      },
      "source": [
        "def centuryFromYear(year):\n",
        "    return (year-1)//100+1"
      ],
      "execution_count": 0,
      "outputs": []
    },
    {
      "cell_type": "markdown",
      "metadata": {
        "id": "kFBAUztIxHNx",
        "colab_type": "text"
      },
      "source": [
        "[3] Given the string, check if it is a palindrome."
      ]
    },
    {
      "cell_type": "code",
      "metadata": {
        "id": "ORtLq5M5xHW8",
        "colab_type": "code",
        "colab": {}
      },
      "source": [
        "def checkPalindrome(inputString):\n",
        "    flag = True\n",
        "\n",
        "    for i in range(int(len(inputString)/2)):\n",
        "        if inputString[i] != inputString[-1-i]:\n",
        "            flag = False\n",
        "            break\n",
        "    \n",
        "    return flag"
      ],
      "execution_count": 0,
      "outputs": []
    },
    {
      "cell_type": "code",
      "metadata": {
        "id": "HOLVFVxSxQ9n",
        "colab_type": "code",
        "colab": {}
      },
      "source": [
        "#best anwser\n",
        "def checkPalindrome(inputString):\n",
        "    return inputString == inputString[::-1]"
      ],
      "execution_count": 0,
      "outputs": []
    },
    {
      "cell_type": "markdown",
      "metadata": {
        "id": "dR097Ab_xy27",
        "colab_type": "text"
      },
      "source": [
        "[4] Given an array of integers, find the pair of adjacent elements that has the largest product and return that product."
      ]
    },
    {
      "cell_type": "code",
      "metadata": {
        "id": "2AUnKC8-xy8-",
        "colab_type": "code",
        "colab": {}
      },
      "source": [
        "def adjacentElementsProduct(inputArray):\n",
        "    max_array = []\n",
        "    \n",
        "    for i in range(len(inputArray)-1):\n",
        "        max_array.append(inputArray[i]*inputArray[i+1])\n",
        "    \n",
        "    return max(max_array)"
      ],
      "execution_count": 0,
      "outputs": []
    },
    {
      "cell_type": "code",
      "metadata": {
        "id": "SRyv08J3x3IR",
        "colab_type": "code",
        "colab": {}
      },
      "source": [
        "#best code\n",
        "def adjacentElementsProduct(inputArray):\n",
        "    return max([inputArray[i] * inputArray[i+1] for i in range(len(inputArray)-1)])"
      ],
      "execution_count": 0,
      "outputs": []
    },
    {
      "cell_type": "markdown",
      "metadata": {
        "id": "Eg8-K1G6x4ti",
        "colab_type": "text"
      },
      "source": [
        "[5] Below we will define an n-interesting polygon. Your task is to find the area of a polygon for a given n."
      ]
    },
    {
      "cell_type": "code",
      "metadata": {
        "id": "RCuE8nnmx41P",
        "colab_type": "code",
        "colab": {}
      },
      "source": [
        "def shapeArea(n):\n",
        "    x = 1\n",
        "    for i in range(n):\n",
        "        x += 4*(i)\n",
        "    return x\n"
      ],
      "execution_count": 0,
      "outputs": []
    },
    {
      "cell_type": "code",
      "metadata": {
        "id": "p3fy0MO_x89t",
        "colab_type": "code",
        "colab": {}
      },
      "source": [
        "#best code\n",
        "def shapeArea(n):\n",
        "    return n**2 + (n-1)**2"
      ],
      "execution_count": 0,
      "outputs": []
    },
    {
      "cell_type": "markdown",
      "metadata": {
        "id": "Hpx5PFaGx-Rv",
        "colab_type": "text"
      },
      "source": [
        "[6] Ratiorg got statues of different sizes as a present from CodeMaster for his birthday, each statue having an non-negative integer size. Since he likes to make things perfect, he wants to arrange them from smallest to largest so that each statue will be bigger than the previous one exactly by 1. He may need some additional statues to be able to accomplish that. Help him figure out the minimum number of additional statues needed."
      ]
    },
    {
      "cell_type": "code",
      "metadata": {
        "id": "ju1XRQWpx_3y",
        "colab_type": "code",
        "colab": {}
      },
      "source": [
        "def makeArrayConsecutive2(statues):\n",
        "    return max(statues)-min(statues)-len(statues)+1\n"
      ],
      "execution_count": 0,
      "outputs": []
    },
    {
      "cell_type": "markdown",
      "metadata": {
        "id": "gYpHT4czyBNP",
        "colab_type": "text"
      },
      "source": [
        "[7] Given a sequence of integers as an array, determine whether it is possible to obtain a strictly increasing sequence by removing no more than one element from the array. (hard)"
      ]
    },
    {
      "cell_type": "code",
      "metadata": {
        "id": "fx3vovc9yFQ8",
        "colab_type": "code",
        "colab": {}
      },
      "source": [
        "#best code\n",
        "def almostIncreasingSequence(sequence):\n",
        "    droppped = False\n",
        "    last = prev = min(sequence) - 1\n",
        "    for elm in sequence:\n",
        "        if elm <= last:\n",
        "            if droppped:\n",
        "                return False\n",
        "            else:\n",
        "                droppped = True\n",
        "            if elm <= prev:\n",
        "                prev = last\n",
        "            elif elm >= prev:\n",
        "                prev = last = elm\n",
        "        else:\n",
        "            prev, last = last, elm\n",
        "    return True\n"
      ],
      "execution_count": 0,
      "outputs": []
    },
    {
      "cell_type": "markdown",
      "metadata": {
        "id": "jrMcqvLeyVsn",
        "colab_type": "text"
      },
      "source": [
        "[8] After becoming famous, the CodeBots decided to move into a new building together. Each of the rooms has a different cost, and some of them are free, but there's a rumour that all the free rooms are haunted! Since the CodeBots are quite superstitious, they refuse to stay in any of the free rooms, or any of the rooms below any of the free rooms."
      ]
    },
    {
      "cell_type": "code",
      "metadata": {
        "id": "H_ZiSu_-yW9X",
        "colab_type": "code",
        "colab": {}
      },
      "source": [
        "def matrixElementsSum(matrix):\n",
        "    total = 0\n",
        "    for i in range(len(matrix)): #행\n",
        "        for j in range(len(matrix[0])): #열\n",
        "            if matrix[i][j] == 0:\n",
        "                for k in range(i,len(matrix)):\n",
        "                    matrix[k][j] = 0\n",
        "\n",
        "    for i in range(len(matrix)): #행\n",
        "        for j in range(len(matrix[0])): #열\n",
        "            total += matrix[i][j]\n",
        "\n",
        "    return total"
      ],
      "execution_count": 0,
      "outputs": []
    },
    {
      "cell_type": "code",
      "metadata": {
        "id": "uHbwua9pyaAY",
        "colab_type": "code",
        "colab": {}
      },
      "source": [
        "#best code\n",
        "def matrixElementsSum(m):\n",
        "    r = len(m)\n",
        "    c = len(m[0])\n",
        "    total=0\n",
        "    for j in range(c):\n",
        "        for i in range(r):\n",
        "            if m[i][j]!=0:\n",
        "                total+=m[i][j]\n",
        "            else:\n",
        "                break\n",
        "    return total"
      ],
      "execution_count": 0,
      "outputs": []
    },
    {
      "cell_type": "markdown",
      "metadata": {
        "id": "G5xK97OwyY3P",
        "colab_type": "text"
      },
      "source": [
        "[9] Given an array of strings, return another array containing all of its longest strings."
      ]
    },
    {
      "cell_type": "code",
      "metadata": {
        "id": "C0KSL2OGyfn2",
        "colab_type": "code",
        "colab": {}
      },
      "source": [
        "def allLongestStrings(inputArray):\n",
        "    s = inputArray\n",
        "    s_len = []\n",
        "    for i in range(len(s)):\n",
        "        s_len.append(len(s[i]))\n",
        "    s_max = max(s_len)\n",
        "    s_list = []\n",
        "    for i in range(len(s)):\n",
        "        if len(s[i]) == s_max:\n",
        "            s_list.append(s[i])\n",
        "    return s_list\n"
      ],
      "execution_count": 0,
      "outputs": []
    },
    {
      "cell_type": "code",
      "metadata": {
        "id": "9kutVvwuyg48",
        "colab_type": "code",
        "colab": {}
      },
      "source": [
        "#best code\n",
        "def allLongestStrings(inputArray):\n",
        "    m = max(len(s) for s in inputArray)\n",
        "    r = [s for s in inputArray if len(s) == m]\n",
        "    return r\n"
      ],
      "execution_count": 0,
      "outputs": []
    },
    {
      "cell_type": "markdown",
      "metadata": {
        "id": "tUWWqljTyj-U",
        "colab_type": "text"
      },
      "source": [
        "[10] Given two strings, find the number of common characters between them."
      ]
    },
    {
      "cell_type": "code",
      "metadata": {
        "id": "9uycnJgpynPA",
        "colab_type": "code",
        "colab": {}
      },
      "source": [
        "def commonCharacterCount(s1, s2):\n",
        "    #중복 제거후 리스트 넣기\n",
        "    s1_d = list(set(s1))\n",
        "    s2_d = list(set(s2))\n",
        "    #딕셔너리 선언\n",
        "    dic_s1 = {}\n",
        "    dic_s2 = {}\n",
        "    #딕셔너리에 단어와 단어개수를 입력\n",
        "    for i in s1_d:\n",
        "        #b\n",
        "        count = 0\n",
        "        for j in s1:\n",
        "            if i==j:\n",
        "                count+=1\n",
        "        dic_s1[i] = count\n",
        "\n",
        "    for i in s2_d:\n",
        "        #b\n",
        "        count = 0\n",
        "        for j in s2:\n",
        "            if i==j:\n",
        "                count+=1\n",
        "        dic_s2[i] = count\n",
        "\n",
        "    total = []\n",
        "    #중복된 값 리스트를 구함\n",
        "    for i,j in dic_s1.items():\n",
        "        for m,n in dic_s2.items():\n",
        "            if i == m:\n",
        "                if j>=n:\n",
        "                    total.append(n)\n",
        "                else:\n",
        "                    total.append(j)\n",
        "    #중복된 값들의 합을 리턴\n",
        "    return sum(total)"
      ],
      "execution_count": 0,
      "outputs": []
    },
    {
      "cell_type": "code",
      "metadata": {
        "id": "tkFH8G8VypeV",
        "colab_type": "code",
        "colab": {}
      },
      "source": [
        "#best code\n",
        "def commonCharacterCount(s1, s2):\n",
        "    com = [min(s1.count(i),s2.count(i)) for i in set(s1)]\n",
        "    return sum(com)\n"
      ],
      "execution_count": 0,
      "outputs": []
    },
    {
      "cell_type": "markdown",
      "metadata": {
        "id": "BKTer_4kyr80",
        "colab_type": "text"
      },
      "source": [
        "[11] Ticket numbers usually consist of an even number of digits. A ticket number is considered lucky if the sum of the first half of the digits is equal to the sum of the second half.\n",
        "Given a ticket number n, determine if it's lucky or not."
      ]
    },
    {
      "cell_type": "code",
      "metadata": {
        "id": "ZLgl7OtDyuR6",
        "colab_type": "code",
        "colab": {}
      },
      "source": [
        "def isLucky(n):\n",
        "    n_list = str(n)\n",
        "    a = 0\n",
        "    b = 0\n",
        "    for i in range(int(len(n_list)/2)):\n",
        "        a += int(n_list[i])\n",
        "        b += int(n_list[-1-i])\n",
        "    return a==b\n"
      ],
      "execution_count": 0,
      "outputs": []
    },
    {
      "cell_type": "code",
      "metadata": {
        "id": "ixBApEtyyv10",
        "colab_type": "code",
        "colab": {}
      },
      "source": [
        "#best code\n",
        "def isLucky(n):\n",
        "    s = str(n)\n",
        "    pivot = len(s)//2\n",
        "    left, right = s[:pivot], s[pivot:]\n",
        "    return sum(map(int, left)) == sum(map(int, right))\n"
      ],
      "execution_count": 0,
      "outputs": []
    },
    {
      "cell_type": "markdown",
      "metadata": {
        "id": "jNaltV2gyyjg",
        "colab_type": "text"
      },
      "source": [
        "[12] Some people are standing in a row in a park. There are trees between them which cannot be moved. Your task is to rearrange the people by their heights in a non-descending order without moving the trees. People can be very tall!"
      ]
    },
    {
      "cell_type": "code",
      "metadata": {
        "id": "5MkBve-wy0BX",
        "colab_type": "code",
        "colab": {}
      },
      "source": [
        "def sortByHeight(a):\n",
        "    #사람의 인덱스를 받을 리스트\n",
        "    p_list = []\n",
        "    #사람 키 값을 받을 리스트\n",
        "    h_list = []\n",
        "    #사람의 인덱스와 사람 키값을 리스트에 저장\n",
        "    for i in range(len(a)):\n",
        "        if a[i] != -1:\n",
        "            p_list.append(i)\n",
        "            h_list.append(a[i])\n",
        "    #사람 키 값을 정렬\n",
        "    h_list = sorted(h_list)\n",
        "    \n",
        "    #사람 키만 오름차순으로 정렬\n",
        "    count = 0\n",
        "    for i in p_list:\n",
        "        a[i] = h_list[count]\n",
        "        count += 1\n",
        "    \n",
        "    return a"
      ],
      "execution_count": 0,
      "outputs": []
    },
    {
      "cell_type": "code",
      "metadata": {
        "id": "67COpc5Yy14a",
        "colab_type": "code",
        "colab": {}
      },
      "source": [
        "#best code\n",
        "def sortByHeight(a):\n",
        "\n",
        "    l = sorted([i for i in a if i > 0])\n",
        "    for n,i in enumerate(a):\n",
        "        if i == -1:\n",
        "            l.insert(n,i)\n",
        "    return l\n"
      ],
      "execution_count": 0,
      "outputs": []
    },
    {
      "cell_type": "markdown",
      "metadata": {
        "id": "XgEASBbWy3q-",
        "colab_type": "text"
      },
      "source": [
        "[13] Write a function that reverses characters in (possibly nested) parentheses in the input string. (hard)"
      ]
    },
    {
      "cell_type": "code",
      "metadata": {
        "id": "2Lkwh_45y7e1",
        "colab_type": "code",
        "colab": {}
      },
      "source": [
        "def reverseInParentheses(inputString):\n",
        "\n",
        "    s = inputString\n",
        "\n",
        "    while '(' in s : #괄호가 다 없어질때까지 반복\n",
        "        fb = s.rfind('(') # rfind : 뒤에서부터 문자열 탐색\n",
        "        bb = s[fb:].find(')') #find : 앞에서부터 문자열 탐색\n",
        "        s = s[:fb] + s[fb+1:fb+bb][::-1] + s[fb+bb+1:] #부분적으로 슬라이스 가능\n",
        "\n",
        "    return s"
      ],
      "execution_count": 0,
      "outputs": []
    },
    {
      "cell_type": "code",
      "metadata": {
        "id": "ek5nYVBHy82f",
        "colab_type": "code",
        "colab": {}
      },
      "source": [
        "#best code\n",
        "def reverseInParentheses(s):\n",
        "    return eval('\"' + s.replace('(', '\"+(\"').replace(')', '\")[::-1]+\"') + '\"')\n"
      ],
      "execution_count": 0,
      "outputs": []
    },
    {
      "cell_type": "markdown",
      "metadata": {
        "id": "tBhMQMIvy_nk",
        "colab_type": "text"
      },
      "source": [
        "[14] Several people are standing in a row and need to be divided into two teams. The first person goes into team 1, the second goes into team 2, the third goes into team 1 again, the fourth into team 2, and so on. You are given an array of positive integers - the weights of the people. Return an array of two integers, where the first element is the total weight of team 1, and the second element is the total weight of team 2 after the division is complete"
      ]
    },
    {
      "cell_type": "code",
      "metadata": {
        "id": "VSWkU9ULzBa-",
        "colab_type": "code",
        "colab": {}
      },
      "source": [
        "def alternatingSums(a):\n",
        "    b = []\n",
        "    c = []\n",
        "    for i in range(len(a)):\n",
        "        if i%2 == 0:\n",
        "            b.append(a[i])\n",
        "        else:\n",
        "            c.append(a[i])\n",
        "    return [sum(b),sum(c)]\n"
      ],
      "execution_count": 0,
      "outputs": []
    },
    {
      "cell_type": "code",
      "metadata": {
        "id": "dS4OMVUCzEYK",
        "colab_type": "code",
        "colab": {}
      },
      "source": [
        "#best code\n",
        "def alternatingSums(a):\n",
        "\n",
        "    return [sum(a[::2]),sum(a[1::2])]"
      ],
      "execution_count": 0,
      "outputs": []
    },
    {
      "cell_type": "markdown",
      "metadata": {
        "id": "sRFJNMXgzG5E",
        "colab_type": "text"
      },
      "source": [
        "[15] Given a rectangular matrix of characters, add a border of asterisks(*) to it."
      ]
    },
    {
      "cell_type": "code",
      "metadata": {
        "id": "4UD664P4zIZb",
        "colab_type": "code",
        "colab": {}
      },
      "source": [
        "def addBorder(picture):\n",
        "    p = picture\n",
        "    up_down = \"\"\n",
        "    #위 아래 별\n",
        "    for i in range(len(p[0])):\n",
        "        up_down += \"*\"\n",
        "\n",
        "    p.insert(0,up_down)\n",
        "    p.insert(len(p),up_down)\n",
        "\n",
        "    #사이드 별\n",
        "    for i in range(len(p)):\n",
        "        p[i] = \"*\"+p[i]+\"*\"\n",
        "    \n",
        "    return p"
      ],
      "execution_count": 0,
      "outputs": []
    },
    {
      "cell_type": "code",
      "metadata": {
        "id": "72aCxNowzJyX",
        "colab_type": "code",
        "colab": {}
      },
      "source": [
        "#best code\n",
        "def addBorder(picture):\n",
        "    l=len(picture[0])+2\n",
        "    return [\"*\"*l]+[x.center(l,\"*\") for x in picture]+[\"*\"*l] \n",
        "#center, 리스트 앞뒤로 해당 문자를 채워줌"
      ],
      "execution_count": 0,
      "outputs": []
    },
    {
      "cell_type": "markdown",
      "metadata": {
        "id": "6_oiYNCuzN34",
        "colab_type": "text"
      },
      "source": [
        "[16] Two arrays are called similar if one can be obtained from another by swapping at most one pair of elements in one of the arrays. (hard)"
      ]
    },
    {
      "cell_type": "code",
      "metadata": {
        "id": "6tX12No0zQDz",
        "colab_type": "code",
        "colab": {}
      },
      "source": [
        "def areSimilar(a, b):\n",
        "    return sorted(a) == sorted(b) and sum([i != j for i,j in zip(a,b)])<3"
      ],
      "execution_count": 0,
      "outputs": []
    },
    {
      "cell_type": "code",
      "metadata": {
        "id": "rW9t4gYNzRds",
        "colab_type": "code",
        "colab": {}
      },
      "source": [
        "#best code\n",
        "from collections import Counter as C\n",
        "\n",
        "def areSimilar(A, B):\n",
        "    return C(A) == C(B) and sum(a != b for a, b in zip(A, B)) < 3\n"
      ],
      "execution_count": 0,
      "outputs": []
    },
    {
      "cell_type": "markdown",
      "metadata": {
        "id": "H1HsToavzViq",
        "colab_type": "text"
      },
      "source": [
        "[17] You are given an array of integers. On each move you are allowed to increase exactly one of its element by one. Find the minimal number of moves required to obtain a strictly increasing sequence from the input."
      ]
    },
    {
      "cell_type": "code",
      "metadata": {
        "id": "A_7sBHZTzX0r",
        "colab_type": "code",
        "colab": {}
      },
      "source": [
        "def arrayChange(inputArray):\n",
        "    a = inputArray\n",
        "    total = 0\n",
        "\n",
        "    for i in range(len(a)-1):\n",
        "        if a[i] >= a[i+1]:\n",
        "            f = a[i]-a[i+1]+1\n",
        "            a[i+1] = a[i]+1\n",
        "            total += f\n",
        "            \n",
        "    return total"
      ],
      "execution_count": 0,
      "outputs": []
    },
    {
      "cell_type": "code",
      "metadata": {
        "id": "DXwz1zT6zZGC",
        "colab_type": "code",
        "colab": {}
      },
      "source": [
        "#best code\n",
        "def arrayChange(inputArray):\n",
        "    a = 0\n",
        "    for i in range(1, len(inputArray)):\n",
        "        if inputArray[i] <= inputArray[i - 1]:\n",
        "            f = (inputArray[i - 1] - inputArray[i]) + 1\n",
        "            inputArray[i] = inputArray[i - 1] + 1\n",
        "            a += f\n",
        "    return a"
      ],
      "execution_count": 0,
      "outputs": []
    },
    {
      "cell_type": "markdown",
      "metadata": {
        "id": "6YZclui3zcQE",
        "colab_type": "text"
      },
      "source": [
        "[18] Given a string, find out if its characters can be rearranged to form a palindrome."
      ]
    },
    {
      "cell_type": "code",
      "metadata": {
        "id": "O-lP1TUPzlIU",
        "colab_type": "code",
        "colab": {}
      },
      "source": [
        "def palindromeRearranging(inputString):\n",
        "    s = inputString\n",
        "    count = []\n",
        "\n",
        "    if len(s) % 2 == 1:\n",
        "        for i in p:\n",
        "            count.append(s.count(i))\n",
        "\n",
        "        flag = 0\n",
        "        for j in count:\n",
        "            if j%2 == 1:\n",
        "                flag += 1\n",
        "\n",
        "        if flag <2:\n",
        "            return True\n",
        "        else:\n",
        "            return False\n",
        "\n",
        "    else:\n",
        "        for i in p:\n",
        "            count.append(s.count(i))\n",
        "\n",
        "        flag = 0\n",
        "        for j in count:\n",
        "            if j%2 == 1:\n",
        "                flag += 1\n",
        "\n",
        "        if flag <1:\n",
        "            return True\n",
        "        else:\n",
        "            return False\n"
      ],
      "execution_count": 0,
      "outputs": []
    },
    {
      "cell_type": "code",
      "metadata": {
        "id": "n-fcGv9_zmqD",
        "colab_type": "code",
        "colab": {}
      },
      "source": [
        "#best code\n",
        "def palindromeRearranging(inputString):\n",
        "\n",
        "    return sum([inputString.count(i)%2 for i in set(inputString)]) <= 1"
      ],
      "execution_count": 0,
      "outputs": []
    },
    {
      "cell_type": "markdown",
      "metadata": {
        "id": "a3qQ8P7wzpi1",
        "colab_type": "text"
      },
      "source": [
        "[19] Call two arms equally strong if the heaviest weights they each are able to lift are equal.\n",
        "\n",
        "Call two people equally strong if their strongest arms are equally strong (the strongest arm can be both the right and the left), and so are their weakest arms.\n",
        "\n",
        "Given your and your friend's arms' lifting capabilities find out if you two are equally strong."
      ]
    },
    {
      "cell_type": "code",
      "metadata": {
        "id": "tlAFjkixzo46",
        "colab_type": "code",
        "colab": {}
      },
      "source": [
        "def areEquallyStrong(yourLeft, yourRight, friendsLeft, friendsRight):\n",
        "    if yourLeft+yourRight == friendsLeft+friendsRight:\n",
        "        if yourLeft == friendsLeft or yourLeft == friendsRight:\n",
        "            return True\n",
        "        else:\n",
        "            return False\n",
        "    else:\n",
        "        return False\n"
      ],
      "execution_count": 0,
      "outputs": []
    },
    {
      "cell_type": "code",
      "metadata": {
        "id": "vK9uJMsQzvFO",
        "colab_type": "code",
        "colab": {}
      },
      "source": [
        "#best code\n",
        "def areEquallyStrong(yourLeft, yourRight, friendsLeft, friendsRight):\n",
        "    return {yourLeft, yourRight} == {friendsLeft, friendsRight}"
      ],
      "execution_count": 0,
      "outputs": []
    },
    {
      "cell_type": "markdown",
      "metadata": {
        "id": "EpMq06UMzxs4",
        "colab_type": "text"
      },
      "source": [
        "[20] Given an array of integers, find the maximal absolute difference between any two of its adjacent elements."
      ]
    },
    {
      "cell_type": "code",
      "metadata": {
        "id": "kA29lvOPzzg4",
        "colab_type": "code",
        "colab": {}
      },
      "source": [
        "def arrayMaximalAdjacentDifference(inputArray):\n",
        "    a = inputArray\n",
        "    max_a = abs(a[0]-a[1])\n",
        "    for i in range(len(a)-1):\n",
        "        if abs(a[i]-a[i+1]) > max_a:\n",
        "            max_a = abs(a[i]-a[i+1])\n",
        "    return max_a\n"
      ],
      "execution_count": 0,
      "outputs": []
    },
    {
      "cell_type": "code",
      "metadata": {
        "id": "p5Iag7vMz54o",
        "colab_type": "code",
        "colab": {}
      },
      "source": [
        "#best code\n",
        "def arrayMaximalAdjacentDifference(a):\n",
        "    diffs=[abs(a[i]-a[i+1]) for i in range(len(a)-1)]\n",
        "    return max(diffs)"
      ],
      "execution_count": 0,
      "outputs": []
    },
    {
      "cell_type": "markdown",
      "metadata": {
        "id": "PScig_Hez8VR",
        "colab_type": "text"
      },
      "source": [
        "[21] An IP address is a numerical label assigned to each device (e.g., computer, printer) participating in a computer network that uses the Internet Protocol for communication. There are two versions of the Internet protocol, and thus two versions of addresses. One of them is the IPv4 address."
      ]
    },
    {
      "cell_type": "code",
      "metadata": {
        "id": "D_KhlTZ-z99S",
        "colab_type": "code",
        "colab": {}
      },
      "source": [
        "def isIPv4Address(inputString):\n",
        "    a = inputString\n",
        "    a_split = a.split(\".\")\n",
        "    flag = True\n",
        "    if len(a_split) == 4:\n",
        "        for i in range(4):\n",
        "            if a_split[i].isdigit():\n",
        "                if int(a_split[i]) < 0 or int(a_split[i]) > 255:\n",
        "                    flag = False\n",
        "                    break\n",
        "            else:\n",
        "                flag = False\n",
        "                break\n",
        "    else:\n",
        "        flag = False\n",
        "\n",
        "    return flag"
      ],
      "execution_count": 0,
      "outputs": []
    },
    {
      "cell_type": "code",
      "metadata": {
        "id": "uSPtmxP2z_mv",
        "colab_type": "code",
        "colab": {}
      },
      "source": [
        "#best code\n",
        "def isIPv4Address(s):\n",
        "    p = s.split('.')\n",
        "\n",
        "    return len(p) == 4 and all(n.isdigit() and 0 <= int(n) < 256 for n in p)"
      ],
      "execution_count": 0,
      "outputs": []
    },
    {
      "cell_type": "markdown",
      "metadata": {
        "id": "hsVatxm-0D5m",
        "colab_type": "text"
      },
      "source": [
        "[22] You are given an array of integers representing coordinates of obstacles situated on a straight line. Assume that you are jumping from the point with coordinate 0 to the right. You are allowed only to make jumps of the same length represented by some integer. Find the minimal length of the jump enough to avoid all the obstacles."
      ]
    },
    {
      "cell_type": "code",
      "metadata": {
        "id": "RV2aNIwg0GJ1",
        "colab_type": "code",
        "colab": {}
      },
      "source": [
        "def avoidObstacles(inputArray):\n",
        "    a = inputArray\n",
        "    start = 0\n",
        "    jump = 1\n",
        "\n",
        "    while(1):\n",
        "        start += jump\n",
        "        if start in a:\n",
        "            jump += 1\n",
        "            start = 0\n",
        "        if start > max(a):\n",
        "            break\n",
        "    return jump"
      ],
      "execution_count": 0,
      "outputs": []
    },
    {
      "cell_type": "code",
      "metadata": {
        "id": "XPyARzT20HjJ",
        "colab_type": "code",
        "colab": {}
      },
      "source": [
        "#best code\n",
        "def avoidObstacles(inputArray):\n",
        "    c = 2\n",
        "    while True:\n",
        "        if sorted([i%c for i in inputArray])[0]>0:\n",
        "            return c\n",
        "        c += 1"
      ],
      "execution_count": 0,
      "outputs": []
    },
    {
      "cell_type": "markdown",
      "metadata": {
        "id": "ltkVkXtI0JMD",
        "colab_type": "text"
      },
      "source": [
        "[23] Last night you partied a little too hard. Now there's a black and white photo of you that's about to go viral! You can't let this ruin your reputation, so you want to apply the box blur algorithm to the photo to hide its content."
      ]
    },
    {
      "cell_type": "code",
      "metadata": {
        "id": "jRT6Gbz-0KZ2",
        "colab_type": "code",
        "colab": {}
      },
      "source": [
        "def boxBlur(image):\n",
        "    c_max = len(image[0])-2\n",
        "    r_max = len(image)-2\n",
        "    total_box = []\n",
        "\n",
        "    for r in range(r_max):\n",
        "        box = []\n",
        "        for c in range(c_max):\n",
        "            sum_box = 0\n",
        "            for i in range(0+r,3+r):\n",
        "                for j in range(0+c,3+c):\n",
        "                    sum_box += image[i][j]\n",
        "            box.append(int(sum_box/9))\n",
        "        total_box.append(box)\n",
        "    return total_box"
      ],
      "execution_count": 0,
      "outputs": []
    },
    {
      "cell_type": "code",
      "metadata": {
        "id": "U-XQtnUI0L-s",
        "colab_type": "code",
        "colab": {}
      },
      "source": [
        "#best code\n",
        "def boxBlur(m):\n",
        "    r = len(m)\n",
        "    c = len(m[0])\n",
        "    ans = []\n",
        "    for i in range(1,r-1):\n",
        "        row=[]\n",
        "        for j in range(1,c-1):\n",
        "            row.append(sum([m[i+k][j+l] for k in [-1,0,1] for l in [-1,0,1]])//9)\n",
        "        ans.append(row)\n",
        "    return ans"
      ],
      "execution_count": 0,
      "outputs": []
    },
    {
      "cell_type": "markdown",
      "metadata": {
        "id": "oiDYpei20OTN",
        "colab_type": "text"
      },
      "source": [
        "[24] In the popular Minesweeper game you have a board with some mines and those cells that don't contain a mine have a number in it that indicates the total number of mines in the neighboring cells. Starting off with some arrangement of mines we want to create a Minesweeper game setup. (hard)"
      ]
    },
    {
      "cell_type": "code",
      "metadata": {
        "id": "sK22zr9B0RZO",
        "colab_type": "code",
        "colab": {}
      },
      "source": [
        "def minesweeper(matrix):\n",
        "    m = matrix\n",
        "    r = []\n",
        "    row = len(m)\n",
        "    col = len(m[0])\n",
        "    for i in range(row):\n",
        "        r.append([])\n",
        "        for j in range(col):\n",
        "            l = -m[i][j]\n",
        "            for x in [-1,0,1]:\n",
        "                for y in [-1,0,1]:\n",
        "                    if 0 <= i+x < row and 0 <= j+y < col:\n",
        "                        l += m[i+x][j+y]\n",
        "            r[i].append(l)\n",
        "    return r"
      ],
      "execution_count": 0,
      "outputs": []
    },
    {
      "cell_type": "code",
      "metadata": {
        "id": "w-RKvpuG0SN5",
        "colab_type": "code",
        "colab": {}
      },
      "source": [
        "#best code\n",
        "def minesweeper(matrix):\n",
        "\n",
        "    r = []\n",
        "    \n",
        "    for i in range(len(matrix)):\n",
        "        r.append([])\n",
        "        for j in range(len(matrix[0])):\n",
        "            l = -matrix[i][j]\n",
        "            for x in [-1,0,1]:\n",
        "                for y in [-1,0,1]:\n",
        "                    if 0<=i+x<len(matrix) and 0<=j+y<len(matrix[0]):\n",
        "                        l += matrix[i+x][j+y]\n",
        "\n",
        "            r[i].append(l)\n",
        "    return r\n"
      ],
      "execution_count": 0,
      "outputs": []
    },
    {
      "cell_type": "markdown",
      "metadata": {
        "id": "342wV7IM0Ugk",
        "colab_type": "text"
      },
      "source": [
        "[25] Given an array of integers, replace all the occurrences of elemToReplace with substitutionElem."
      ]
    },
    {
      "cell_type": "code",
      "metadata": {
        "id": "T5M6Hym12Qo7",
        "colab_type": "code",
        "colab": {}
      },
      "source": [
        "def arrayReplace(inputArray, elemToReplace, substitutionElem):\n",
        "  li = inputArray\n",
        "  origin = elemToReplace\n",
        "  change = substitutionElem\n",
        "\n",
        "  for i in range(len(li)):\n",
        "    if li[i] == origin:\n",
        "      li[i] = change\n",
        "\n",
        "  return li"
      ],
      "execution_count": 0,
      "outputs": []
    },
    {
      "cell_type": "code",
      "metadata": {
        "id": "qVeHbvpA4Ejf",
        "colab_type": "code",
        "colab": {}
      },
      "source": [
        "#best code\n",
        "def arrayReplace(i, e, s):\n",
        "    return [x if x!=e else s for x in i]"
      ],
      "execution_count": 0,
      "outputs": []
    },
    {
      "cell_type": "markdown",
      "metadata": {
        "id": "iebGEkQZ4159",
        "colab_type": "text"
      },
      "source": [
        "[26] Check if all digits of the given integer are even."
      ]
    },
    {
      "cell_type": "code",
      "metadata": {
        "id": "QbfRRExg48S2",
        "colab_type": "code",
        "colab": {}
      },
      "source": [
        "def evenDigitsOnly(n):\n",
        "  \n",
        "  li_n = str(n)\n",
        "  for i in range(len(li_n)):\n",
        "    if int(li_n[i]) % 2 == 1:\n",
        "      return False\n",
        "  return True"
      ],
      "execution_count": 0,
      "outputs": []
    },
    {
      "cell_type": "code",
      "metadata": {
        "id": "iLNvdc_e5RUl",
        "colab_type": "code",
        "colab": {}
      },
      "source": [
        "#best code\n",
        "def evenDigitsOnly(n):\n",
        "    return all([int(i)%2==0 for i in str(n)])"
      ],
      "execution_count": 0,
      "outputs": []
    },
    {
      "cell_type": "markdown",
      "metadata": {
        "id": "pZb-MOU654_w",
        "colab_type": "text"
      },
      "source": [
        "[27] Correct variable names consist only of English letters, digits and underscores and they can't start with a digit.\n",
        "Check if the given string is a correct variable name."
      ]
    },
    {
      "cell_type": "code",
      "metadata": {
        "id": "vKKvES0P6IGg",
        "colab_type": "code",
        "colab": {}
      },
      "source": [
        "def variableName(name):\n",
        "  flag = True\n",
        "\n",
        "  #첫 단어 숫자 검사\n",
        "  if name[0].isdigit() == True:\n",
        "    print(\"첫 단어\")\n",
        "    flag = False\n",
        "\n",
        "  #영어, 문자, 숫자, 밑줄로만 구성\n",
        "  for i in range(len(name)):\n",
        "    if name[i].isalpha() or name[i].isdigit() or name[i] == '_':\n",
        "      continue\n",
        "    else:\n",
        "      flag = False\n",
        "      break\n",
        "\n",
        "  return flag"
      ],
      "execution_count": 0,
      "outputs": []
    },
    {
      "cell_type": "code",
      "metadata": {
        "id": "3HIyd2eb8Stv",
        "colab_type": "code",
        "colab": {}
      },
      "source": [
        "def variableName(name):\n",
        "    return name.isidentifier()"
      ],
      "execution_count": 0,
      "outputs": []
    },
    {
      "cell_type": "markdown",
      "metadata": {
        "id": "TQegvdLJ9uWK",
        "colab_type": "text"
      },
      "source": [
        "[28] Given a string, your task is to replace each of its characters by the next one in the English alphabet; i.e. replace a with b, replace b with c, etc (z would be replaced by a)."
      ]
    },
    {
      "cell_type": "code",
      "metadata": {
        "id": "JFCCKC1N5lJL",
        "colab_type": "code",
        "outputId": "c8192017-4555-4d3f-897f-8194a1212a00",
        "colab": {
          "base_uri": "https://localhost:8080/",
          "height": 34
        }
      },
      "source": [
        "def alphabeticShift(inputString):\n",
        "  a = inputString\n",
        "  b = []\n",
        "  c = \"\"\n",
        "\n",
        "  for i in a:\n",
        "    if i == 'z' or i == 'Z':\n",
        "      char = chr(ord(i)-25)\n",
        "    else :\n",
        "      char = chr(ord(i)+1)\n",
        "    b.append(char)\n",
        "\n",
        "  for j in b:\n",
        "    c += j\n",
        "    \n",
        "  return c"
      ],
      "execution_count": 0,
      "outputs": [
        {
          "output_type": "execute_result",
          "data": {
            "text/plain": [
              "'dsbaz'"
            ]
          },
          "metadata": {
            "tags": []
          },
          "execution_count": 27
        }
      ]
    },
    {
      "cell_type": "code",
      "metadata": {
        "id": "VzkIkxh9E35J",
        "colab_type": "code",
        "colab": {}
      },
      "source": [
        "#best code\n",
        "def alphabeticShift(s):\n",
        "    return \"\".join(chr((ord(i)-96)%26+97) for i in s)"
      ],
      "execution_count": 0,
      "outputs": []
    },
    {
      "cell_type": "markdown",
      "metadata": {
        "id": "zXgustk7-bnO",
        "colab_type": "text"
      },
      "source": [
        "[29] Given two cells on the standard chess board, determine whether they have the same color or not."
      ]
    },
    {
      "cell_type": "code",
      "metadata": {
        "id": "ekqr1YFt9Yrh",
        "colab_type": "code",
        "outputId": "933fdf00-f3df-40c6-b783-23edabad242b",
        "colab": {
          "base_uri": "https://localhost:8080/",
          "height": 34
        }
      },
      "source": [
        "def chessBoardCellColor(cell1, cell2):\n",
        "  c1 = cell1\n",
        "  c2 = cell2\n",
        "\n",
        "  #아스키 코드값 변환\n",
        "  if ord(c1[0]) % 2 == ord(c2[0]) % 2:\n",
        "    #정수값 변환\n",
        "    if int(c1[1]) % 2 == int(c2[1]) % 2:\n",
        "      return True\n",
        "    else:\n",
        "      return False\n",
        "\n",
        "  else:\n",
        "    if int(c1[1]) % 2 == int(c2[1]) % 2:\n",
        "      return False\n",
        "    else:\n",
        "      return True"
      ],
      "execution_count": 0,
      "outputs": [
        {
          "output_type": "stream",
          "text": [
            "true\n"
          ],
          "name": "stdout"
        }
      ]
    },
    {
      "cell_type": "code",
      "metadata": {
        "id": "CBKXWLa-E-gw",
        "colab_type": "code",
        "colab": {}
      },
      "source": [
        "#best code\n",
        "def chessBoardCellColor(cell1, cell2):\n",
        "    \n",
        "    return (ord(cell1[0])+int(cell1[1])+ord(cell2[0])+int(cell2[1]))%2==0"
      ],
      "execution_count": 0,
      "outputs": []
    },
    {
      "cell_type": "markdown",
      "metadata": {
        "id": "hIz-AVAyCIX9",
        "colab_type": "text"
      },
      "source": [
        "[30] Consider integer numbers from 0 to n - 1 written down along the circle in such a way that the distance between any two neighboring numbers is equal (note that 0 and n - 1 are neighboring, too).\n",
        "\n",
        "Given n and firstNumber, find the number which is written in the radially opposite position to firstNumber."
      ]
    },
    {
      "cell_type": "code",
      "metadata": {
        "id": "OrjTZd-T_Roo",
        "colab_type": "code",
        "outputId": "9107815f-f4b7-468c-b374-c53d350b3ace",
        "colab": {
          "base_uri": "https://localhost:8080/",
          "height": 34
        }
      },
      "source": [
        "def circleOfNumbers(n, firstNumber):\n",
        "  if firstNumber < n/2:\n",
        "    return int(firstNumber + n/2)\n",
        "  else:\n",
        "    return int(firstNumber - n/2)\n"
      ],
      "execution_count": 0,
      "outputs": [
        {
          "output_type": "stream",
          "text": [
            "4.0\n"
          ],
          "name": "stdout"
        }
      ]
    },
    {
      "cell_type": "code",
      "metadata": {
        "id": "qfO8nupfFA20",
        "colab_type": "code",
        "colab": {}
      },
      "source": [
        "#best code\n",
        "def chessBoardCellColor(cell1, cell2):\n",
        "    \n",
        "    return (ord(cell1[0])+int(cell1[1])+ord(cell2[0])+int(cell2[1]))%2==0"
      ],
      "execution_count": 0,
      "outputs": []
    },
    {
      "cell_type": "markdown",
      "metadata": {
        "id": "PPJkGnS9xT86",
        "colab_type": "text"
      },
      "source": [
        "[31] You have deposited a specific amount of money into your bank account. Each year your balance increases at the same growth rate. With the assumption that you don't make any additional deposits, find out how long it would take for your balance to pass a specific threshold."
      ]
    },
    {
      "cell_type": "code",
      "metadata": {
        "id": "OL5SI2NvxVwZ",
        "colab_type": "code",
        "outputId": "e272dd56-2f96-4a89-964b-746f19ae57e3",
        "colab": {
          "base_uri": "https://localhost:8080/",
          "height": 52
        }
      },
      "source": [
        "def depositProfit(deposit, rate, threshold):\n",
        "  year = 0\n",
        "  \n",
        "  while(1):\n",
        "    deposit = deposit + (deposit * (rate/100))\n",
        "    year += 1\n",
        "    if deposit >= threshold:\n",
        "      break\n",
        "  \n",
        "  return year"
      ],
      "execution_count": 0,
      "outputs": [
        {
          "output_type": "stream",
          "text": [
            "101.0\n"
          ],
          "name": "stdout"
        },
        {
          "output_type": "execute_result",
          "data": {
            "text/plain": [
              "1"
            ]
          },
          "metadata": {
            "tags": []
          },
          "execution_count": 9
        }
      ]
    },
    {
      "cell_type": "code",
      "metadata": {
        "id": "2Dluv4-7xm-C",
        "colab_type": "code",
        "colab": {}
      },
      "source": [
        "#best code\n",
        "def depositProfit(deposit, rate, threshold):\n",
        "\n",
        "    return math.ceil(math.log(threshold/deposit, 1+rate/100))"
      ],
      "execution_count": 0,
      "outputs": []
    },
    {
      "cell_type": "markdown",
      "metadata": {
        "id": "O67-DtUyzNbY",
        "colab_type": "text"
      },
      "source": [
        "[32] Given a sorted array of integers a, your task is to determine which element of a is closest to all other values of a. In other words, find the element x in a, which minimizes the following sum."
      ]
    },
    {
      "cell_type": "code",
      "metadata": {
        "id": "37Tlfb5VzTVr",
        "colab_type": "code",
        "outputId": "0d2e1c1d-8540-4d91-83c0-5d3e8e2dde1d",
        "colab": {
          "base_uri": "https://localhost:8080/",
          "height": 34
        }
      },
      "source": [
        "def absoluteValuesSumMinimization(a):\n",
        "  a_min = []\n",
        "  for num in a:\n",
        "    a_abs = 0\n",
        "    for j in range(len(a)):\n",
        "      a_abs += abs(a[j]-num)\n",
        "    a_min.append(a_abs)\n",
        "\n",
        "  for i in range(len(a_min)):\n",
        "    if a_min[i] == min(a_min):\n",
        "      return a[i]"
      ],
      "execution_count": 0,
      "outputs": [
        {
          "output_type": "stream",
          "text": [
            "4\n"
          ],
          "name": "stdout"
        }
      ]
    },
    {
      "cell_type": "code",
      "metadata": {
        "id": "f53SPDkm2naC",
        "colab_type": "code",
        "colab": {}
      },
      "source": [
        "#best code\n",
        "def absoluteValuesSumMinimization(A):\n",
        "    return A[(len(A)-1)//2]"
      ],
      "execution_count": 0,
      "outputs": []
    },
    {
      "cell_type": "markdown",
      "metadata": {
        "id": "0m-VMn3f4w3Z",
        "colab_type": "text"
      },
      "source": [
        "[33] Given an array of equal-length strings, you'd like to know if it's possible to rearrange the order of the elements in such a way that each consecutive pair of strings differ by exactly one character. Return true if it's possible, and false if not.\n",
        "Note: You're only rearranging the order of the strings, not the order of the letters within the strings!"
      ]
    },
    {
      "cell_type": "code",
      "metadata": {
        "id": "orEznYs04ylD",
        "colab_type": "code",
        "outputId": "188f64a0-bed5-4858-f2dd-f28636f4bf16",
        "colab": {
          "base_uri": "https://localhost:8080/",
          "height": 133
        }
      },
      "source": [
        "#import.위드 version\n",
        "#순열을 구하는 라이브러리, 순열이란 수의 조합이다.\n",
        "from itertools import permutations as p\n",
        "\n",
        "a = [\"aba\", \"bbb\", \"bab\"]\n",
        "\n",
        "#두 리스트를 받아 비교하는 함수\n",
        "def compare(x,y):\n",
        "  #일치하는 문자를 카운팅하는 변수 'c'\n",
        "  c = 0\n",
        "  for i in range(len(x)):\n",
        "    if x[i] != y[i]:\n",
        "      c += 1\n",
        "  #두 리스트를 비교하여 틀린게 하나라면 True\n",
        "  if c == 1:\n",
        "    return True\n",
        "  #두 리스트를 비교하여 틀린게 하나가 아니라면 False\n",
        "  return False\n",
        "\n",
        "#p(리스트,리스트 크기) -> 모든 문자열의 조합을 비교함\n",
        "for k in p(a,len(a)):\n",
        "  flag = True\n",
        "  for i in range(len(k)-1):\n",
        "    if not compare(k[i], k[i+1]): # 0,1/1,2/2,3 비교\n",
        "      #compare값이 False일때 실행\n",
        "      flag = False\n",
        "  #비교한 결과 flag가 True라면 바로 True를 return\n",
        "  #1개의 문자만 다르고 나머지는 같다는 의미\n",
        "  if flag:\n",
        "    return True\n",
        "\n",
        "#모든 문자열의 조합을 비교한 결과\n",
        "#return True부분에 걸리지 않았으므로 False return\n",
        "return False"
      ],
      "execution_count": 0,
      "outputs": [
        {
          "output_type": "error",
          "ename": "SyntaxError",
          "evalue": "ignored",
          "traceback": [
            "\u001b[0;36m  File \u001b[0;32m\"<ipython-input-1-fbe6d892e66b>\"\u001b[0;36m, line \u001b[0;32m28\u001b[0m\n\u001b[0;31m    return True\u001b[0m\n\u001b[0m    ^\u001b[0m\n\u001b[0;31mSyntaxError\u001b[0m\u001b[0;31m:\u001b[0m 'return' outside function\n"
          ]
        }
      ]
    },
    {
      "cell_type": "code",
      "metadata": {
        "id": "bbhRQ_pybUSW",
        "colab_type": "code",
        "outputId": "86c9ba0c-6a23-4b75-dd81-45a085058eff",
        "colab": {
          "base_uri": "https://localhost:8080/",
          "height": 34
        }
      },
      "source": [
        "#best code\n",
        "from itertools import permutations\n",
        "\n",
        "def diff(w1, w2):\n",
        "    return sum([a[0] != a[1] for a in zip(w1, w2)]) == 1\n",
        "\n",
        "def stringsRearrangement(inputArray):\n",
        "    for z in permutations(inputArray):\n",
        "        if sum([diff(*x) for x in zip(z, z[1:])]) == len(inputArray) - 1:\n",
        "            return True\n",
        "    return False"
      ],
      "execution_count": 0,
      "outputs": [
        {
          "output_type": "execute_result",
          "data": {
            "text/plain": [
              "False"
            ]
          },
          "metadata": {
            "tags": []
          },
          "execution_count": 15
        }
      ]
    },
    {
      "cell_type": "markdown",
      "metadata": {
        "id": "ie0RyiHWooYD",
        "colab_type": "text"
      },
      "source": [
        "[34] Given array of integers, remove each k(th) element from it.\n",
        "\n"
      ]
    },
    {
      "cell_type": "code",
      "metadata": {
        "id": "z0Eb1_1Yyntz",
        "colab_type": "code",
        "colab": {}
      },
      "source": [
        "def extractEachKth(s, k):\n",
        "    del s[k-1::k]\n",
        "    return s"
      ],
      "execution_count": 0,
      "outputs": []
    },
    {
      "cell_type": "code",
      "metadata": {
        "id": "QSNAf0kV0xec",
        "colab_type": "code",
        "colab": {}
      },
      "source": [
        "#best code\n",
        "def extractEachKth(x, k):\n",
        "    del x[k-1::k]\n",
        "    return x"
      ],
      "execution_count": 0,
      "outputs": []
    },
    {
      "cell_type": "markdown",
      "metadata": {
        "id": "InE36SyU025d",
        "colab_type": "text"
      },
      "source": [
        "[35] Find the leftmost digit that occurs in a given string."
      ]
    },
    {
      "cell_type": "code",
      "metadata": {
        "id": "PbwcYbCI0-wn",
        "colab_type": "code",
        "outputId": "d013cd9a-687c-4bae-ee21-7fb63a0cc348",
        "colab": {
          "base_uri": "https://localhost:8080/",
          "height": 34
        }
      },
      "source": [
        "def firstDigit(s):\n",
        "  for i in range(len(s)):\n",
        "    if s[i].isdigit():\n",
        "      return s[i]"
      ],
      "execution_count": 0,
      "outputs": [
        {
          "output_type": "stream",
          "text": [
            "1\n"
          ],
          "name": "stdout"
        }
      ]
    },
    {
      "cell_type": "code",
      "metadata": {
        "id": "_JuvR6Ok0-uA",
        "colab_type": "code",
        "colab": {}
      },
      "source": [
        "#best code\n",
        "def firstDigit(inputString):\n",
        "    for i in inputString:\n",
        "        if i.isdigit():\n",
        "            return i"
      ],
      "execution_count": 0,
      "outputs": []
    },
    {
      "cell_type": "markdown",
      "metadata": {
        "id": "5XhWr7SX1yFr",
        "colab_type": "text"
      },
      "source": [
        "[36] Given a string, find the number of different characters in it."
      ]
    },
    {
      "cell_type": "code",
      "metadata": {
        "id": "EK2SeZsg1-k8",
        "colab_type": "code",
        "outputId": "f21c9c95-ddf3-439b-c41e-d21233956d5d",
        "colab": {
          "base_uri": "https://localhost:8080/",
          "height": 34
        }
      },
      "source": [
        "def differentSymbolsNaive(s):\n",
        "    return len(set(s))"
      ],
      "execution_count": 0,
      "outputs": [
        {
          "output_type": "execute_result",
          "data": {
            "text/plain": [
              "3"
            ]
          },
          "metadata": {
            "tags": []
          },
          "execution_count": 33
        }
      ]
    },
    {
      "cell_type": "code",
      "metadata": {
        "id": "XJxbIyGm1_Qu",
        "colab_type": "code",
        "colab": {}
      },
      "source": [
        "#best code\n",
        "def differentSymbolsNaive(s):\n",
        "    return len(set(s))"
      ],
      "execution_count": 0,
      "outputs": []
    },
    {
      "cell_type": "markdown",
      "metadata": {
        "id": "-wTHZQtU-Vvt",
        "colab_type": "text"
      },
      "source": [
        "[37] Given array of integers, find the maximal possible sum of some of its k consecutive elements."
      ]
    },
    {
      "cell_type": "code",
      "metadata": {
        "id": "IG-GLKiA-ZoY",
        "colab_type": "code",
        "outputId": "d3f68930-8efd-4d5b-df93-a7324dff96a3",
        "colab": {
          "base_uri": "https://localhost:8080/",
          "height": 34
        }
      },
      "source": [
        "def arrayMaxConsecutiveSum(s, k):\n",
        "  \n",
        "  m = c = sum(s[:k])\n",
        "\n",
        "  for i in range(len(s)-k):\n",
        "    c = c + s[i+k] - s[i]\n",
        "    m = max(c,m)\n",
        "\n",
        "  return m"
      ],
      "execution_count": 0,
      "outputs": [
        {
          "output_type": "execute_result",
          "data": {
            "text/plain": [
              "10"
            ]
          },
          "metadata": {
            "tags": []
          },
          "execution_count": 40
        }
      ]
    },
    {
      "cell_type": "code",
      "metadata": {
        "id": "zgTLRH5zLwLb",
        "colab_type": "code",
        "colab": {}
      },
      "source": [
        "#best code\n",
        "def arrayMaxConsecutiveSum(a, k):\n",
        "    c = m = sum(a[:k])\n",
        "    \n",
        "    for i in range(len(a) - k):\n",
        "        c = c + a[i + k] - a[i]\n",
        "        m = max(c, m)\n",
        "        \n",
        "    return m"
      ],
      "execution_count": 0,
      "outputs": []
    },
    {
      "cell_type": "markdown",
      "metadata": {
        "id": "8zoY0_-uIZ3l",
        "colab_type": "text"
      },
      "source": [
        "[38] Caring for a plant can be hard work, but since you tend to it regularly, you have a plant that grows consistently. Each day, its height increases by a fixed amount represented by the integer upSpeed. But due to lack of sunlight, the plant decreases in height every night, by an amount represented by downSpeed.\n",
        "Since you grew the plant from a seed, it started at height 0 initially. Given an integer desiredHeight, your task is to find how many days it'll take for the plant to reach this height."
      ]
    },
    {
      "cell_type": "code",
      "metadata": {
        "id": "-E862e-fIkph",
        "colab_type": "code",
        "outputId": "4b847890-3f9f-4185-8c5c-a863d2bb8db1",
        "colab": {
          "base_uri": "https://localhost:8080/",
          "height": 34
        }
      },
      "source": [
        "def growingPlant(up, down, goal):\n",
        "  day = 0\n",
        "  h = 0\n",
        "\n",
        "  while(1):\n",
        "    day += 1\n",
        "    h += up\n",
        "    if h >= goal:\n",
        "      break\n",
        "    h -= down\n",
        "\n",
        "  return day"
      ],
      "execution_count": 0,
      "outputs": [
        {
          "output_type": "execute_result",
          "data": {
            "text/plain": [
              "10"
            ]
          },
          "metadata": {
            "tags": []
          },
          "execution_count": 6
        }
      ]
    },
    {
      "cell_type": "code",
      "metadata": {
        "id": "KjhdtDg7Ikly",
        "colab_type": "code",
        "colab": {}
      },
      "source": [
        "#best code\n",
        "def growingPlant(upSpeed, downSpeed, desiredHeight):\n",
        "    if desiredHeight <= upSpeed:\n",
        "        return 1\n",
        "    return math.ceil((desiredHeight - upSpeed) / (upSpeed - downSpeed) + 1)"
      ],
      "execution_count": 0,
      "outputs": []
    },
    {
      "cell_type": "markdown",
      "metadata": {
        "id": "XCZttLlUYGZn",
        "colab_type": "text"
      },
      "source": [
        "[39] You found two items in a treasure chest! The first item weighs weight1 and is worth value1, and the second item weighs weight2 and is worth value2. What is the total maximum value of the items you can take with you, assuming that your max weight capacity is maxW and you can't come back for the items later?"
      ]
    },
    {
      "cell_type": "code",
      "metadata": {
        "id": "EYs8IovAYIKw",
        "colab_type": "code",
        "colab": {}
      },
      "source": [
        "def knapsackLight(v1, w1, v2, w2, max_w):\n",
        "\n",
        "  if max_w < (w1+w2):\n",
        "    if v1 >= v2 and max_w >= w1:\n",
        "      return v1\n",
        "    elif v1 < v2 and max_w >= w2:    \n",
        "      return v2\n",
        "    elif v1 < v2 and max_w >= w1:\n",
        "      return v1\n",
        "    else:\n",
        "      return 0\n",
        "\n",
        "  else:\n",
        "    return v1+v2"
      ],
      "execution_count": 0,
      "outputs": []
    },
    {
      "cell_type": "code",
      "metadata": {
        "id": "XN7u_elLYIPr",
        "colab_type": "code",
        "outputId": "c1bfafa7-e720-41a5-febe-feade22a4f20",
        "colab": {
          "base_uri": "https://localhost:8080/",
          "height": 34
        }
      },
      "source": [
        "#best code\n",
        "def knapsackLight(v1, w1, v2, w2, W):\n",
        "    return max(int(w1<=W)*v1, int(w2<=W)*v2, int(w1+w2<=W)*(v1+v2))"
      ],
      "execution_count": 0,
      "outputs": [
        {
          "output_type": "execute_result",
          "data": {
            "text/plain": [
              "15"
            ]
          },
          "metadata": {
            "tags": []
          },
          "execution_count": 25
        }
      ]
    },
    {
      "cell_type": "markdown",
      "metadata": {
        "id": "UhtV5yno9fZd",
        "colab_type": "text"
      },
      "source": [
        "[40] Given a string, output its longest prefix which contains only digits."
      ]
    },
    {
      "cell_type": "code",
      "metadata": {
        "id": "Pz8Kbku59i6G",
        "colab_type": "code",
        "colab": {}
      },
      "source": [
        "def longestDigitsPrefix(s):\n",
        "  \n",
        "  li = \"\"\n",
        "  for i in s:\n",
        "    if i.isdigit():\n",
        "      li += i\n",
        "    else:\n",
        "      break\n",
        "    \n",
        "  return li"
      ],
      "execution_count": 0,
      "outputs": []
    },
    {
      "cell_type": "code",
      "metadata": {
        "id": "4ngM6tDJ9jF8",
        "colab_type": "code",
        "colab": {}
      },
      "source": [
        "#best code\n",
        "def longestDigitsPrefix(inputString):\n",
        "    return re.findall('^\\d*',inputString)[0]"
      ],
      "execution_count": 0,
      "outputs": []
    },
    {
      "cell_type": "markdown",
      "metadata": {
        "id": "YGGjqI3x9iIT",
        "colab_type": "text"
      },
      "source": [
        "[41] Let's define digit degree of some positive integer as the number of times we need to replace this number with the sum of its digits until we get to a one digit number."
      ]
    },
    {
      "cell_type": "code",
      "metadata": {
        "id": "FpwYavUP9rAK",
        "colab_type": "code",
        "colab": {}
      },
      "source": [
        "def digitDegree(n):\n",
        "  #각 자리의 수의 합이 1의 자리가 되게하는 횟수를 return\n",
        "  s = str(n)\n",
        "  cnt = 0\n",
        "\n",
        "  if len(s) == 1:\n",
        "    return cnt\n",
        "\n",
        "  while(1):\n",
        "    a = 0\n",
        "    for i in range(len(s)):\n",
        "      a += int(s[i])\n",
        "\n",
        "    cnt += 1\n",
        "    if a < 10:\n",
        "      break\n",
        "\n",
        "    s = str(a)\n",
        "\n",
        "  return cnt"
      ],
      "execution_count": 0,
      "outputs": []
    },
    {
      "cell_type": "code",
      "metadata": {
        "id": "bfX4BuH_9q80",
        "colab_type": "code",
        "colab": {}
      },
      "source": [
        "#best code\n",
        "def digitDegree(n):\n",
        "    \n",
        "    if n < 10:\n",
        "        return 0\n",
        "    \n",
        "    sumOfDigits = sum([int(i) for i in str(n)])\n",
        "    \n",
        "    return digitDegree(sumOfDigits) + 1"
      ],
      "execution_count": 0,
      "outputs": []
    },
    {
      "cell_type": "markdown",
      "metadata": {
        "id": "TG_x-XJQ9iP4",
        "colab_type": "text"
      },
      "source": [
        "[42] Given the positions of a white bishop and a black pawn on the standard chess board, determine whether the bishop can capture the pawn in one move."
      ]
    },
    {
      "cell_type": "code",
      "metadata": {
        "id": "x9WWzTBq9w8F",
        "colab_type": "code",
        "colab": {}
      },
      "source": [
        "def bishopAndPawn(b, p):\n",
        "    #좌표 평면으로 봤을 때, x값과 y값이 동일해야\n",
        "    #bishop이 pawn을 잡을 수 있다.\n",
        "\n",
        "    return abs(ord(b[0])-ord(p[0])) == abs(int(b[1])-int(p[1]))\n"
      ],
      "execution_count": 0,
      "outputs": []
    },
    {
      "cell_type": "code",
      "metadata": {
        "id": "sqLhrMEU9w5e",
        "colab_type": "code",
        "colab": {}
      },
      "source": [
        "#best code\n",
        "def bishopAndPawn(bishop, pawn):\n",
        "    return abs(ord(bishop[0])-ord(pawn[0]))==abs(int(pawn[1])-int(bishop[1]))"
      ],
      "execution_count": 0,
      "outputs": []
    },
    {
      "cell_type": "markdown",
      "metadata": {
        "id": "1zOtEYVV9zgd",
        "colab_type": "text"
      },
      "source": [
        "[43] A string is said to be beautiful if each letter in the string appears at most as many times as the previous letter in the alphabet within the string; ie: b occurs no more times than a; c occurs no more times than b; etc."
      ]
    },
    {
      "cell_type": "code",
      "metadata": {
        "id": "6yklxtE0-AVF",
        "colab_type": "code",
        "outputId": "2d21b81b-8f0c-47af-b4cd-75d2f8113473",
        "colab": {
          "base_uri": "https://localhost:8080/",
          "height": 140
        }
      },
      "source": [
        "def isBeautifulString(s):\n",
        "  #문자열이 들어왔을 때, \n",
        "  #a의 갯수 >= b의 갯수 >= c의 갯수 >= ... >= z의 갯수 일때 \n",
        "  #아름답다고 한다.\n",
        "\n",
        "  check = \"abcdefghijklnmopqrstuvwxyz\"\n",
        "  sum_s = []\n",
        "  print(check)\n",
        "\n",
        "  for i in range(len(check)):\n",
        "    p = 0\n",
        "    for j in range(len(s)):\n",
        "      if check[i] == s[j]:\n",
        "        p += 1\n",
        "    sum_s.append(p)\n",
        "\n",
        "  for k in range(len(sum_s)-1):\n",
        "    if sum_s[k] < sum_s[k+1]:\n",
        "      return False\n",
        "  return True"
      ],
      "execution_count": 0,
      "outputs": [
        {
          "output_type": "stream",
          "text": [
            "abcdefghijklnmopqrstuvwxyz\n",
            "b\n",
            "b\n",
            "c\n",
            "False\n",
            "True\n",
            "[0, 2, 1, 0, 0, 0, 0, 0, 0, 0, 0, 0, 0, 0, 0, 0, 0, 0, 0, 0, 0, 0, 0, 0, 0, 0]\n"
          ],
          "name": "stdout"
        }
      ]
    },
    {
      "cell_type": "code",
      "metadata": {
        "id": "HNW6schiCV3O",
        "colab_type": "code",
        "colab": {}
      },
      "source": [
        "#best code\n",
        "def isBeautifulString(inputString):\n",
        "\n",
        "    r = [inputString.count(i) for i in string.ascii_lowercase]\n",
        "    \n",
        "    return r[::-1] == sorted(r)"
      ],
      "execution_count": 0,
      "outputs": []
    },
    {
      "cell_type": "markdown",
      "metadata": {
        "id": "qZYIRDjbLLEn",
        "colab_type": "text"
      },
      "source": [
        "[44] An email address such as \"John.Smith@example.com\" is made up of a local part (\"John.Smith\"), an \"@\" symbol, then a domain part (\"example.com\").\n",
        "\n",
        "The domain name part of an email address may only consist of letters, digits, hyphens and dots. The local part, however, also allows a lot of different special characters. Here you can look at several examples of correct and incorrect email addresses.\n",
        "\n",
        "Given a valid email address, find its domain part."
      ]
    },
    {
      "cell_type": "code",
      "metadata": {
        "id": "2b4kxhrmLQtF",
        "colab_type": "code",
        "outputId": "fcfc834a-49ba-43a8-bafa-55a6ee6406e8",
        "colab": {
          "base_uri": "https://localhost:8080/",
          "height": 34
        }
      },
      "source": [
        "def findEmailDomain(s):\n",
        "  #뒤에서 부터 @ 검사\n",
        "  c = len(s)-1\n",
        "\n",
        "  while(1):\n",
        "    if s[c] == '@':\n",
        "      d = s[c+1:]\n",
        "      break\n",
        "    c -= 1\n",
        "\n",
        "  return d"
      ],
      "execution_count": 0,
      "outputs": [
        {
          "output_type": "execute_result",
          "data": {
            "text/plain": [
              "'usual.com'"
            ]
          },
          "metadata": {
            "tags": []
          },
          "execution_count": 31
        }
      ]
    },
    {
      "cell_type": "code",
      "metadata": {
        "id": "8YPTnRYdLQ8V",
        "colab_type": "code",
        "colab": {}
      },
      "source": [
        "#best code\n",
        "def findEmailDomain(address):\n",
        "    return address.split('@')[-1]"
      ],
      "execution_count": 0,
      "outputs": []
    },
    {
      "cell_type": "markdown",
      "metadata": {
        "id": "V9Kgkxq-MobG",
        "colab_type": "text"
      },
      "source": [
        "[45] Given a string, find the shortest possible string which can be achieved by adding characters to the end of initial string to make it a palindrome."
      ]
    },
    {
      "cell_type": "code",
      "metadata": {
        "id": "V7t0Hat6bLft",
        "colab_type": "code",
        "colab": {}
      },
      "source": [
        "def buildPalindrome(st):\n",
        "\n",
        "  c = 0\n",
        "\n",
        "  if st == st[::-1]:\n",
        "    return st\n",
        "\n",
        "  while(c < len(st)):\n",
        "    new_st = st + st[c::-1]\n",
        "\n",
        "    if new_st == new_st[::-1]:\n",
        "      return new_st\n",
        "    c += 1\n",
        "\n",
        "  return False"
      ],
      "execution_count": 0,
      "outputs": []
    },
    {
      "cell_type": "code",
      "metadata": {
        "id": "73aBE0uYb6Rx",
        "colab_type": "code",
        "colab": {}
      },
      "source": [
        "#best code\n",
        "def buildPalindrome(st):\n",
        "    for i in range(0,len(st)):\n",
        "        if(st[i:len(st)] == st[i:len(st)][::-1]):\n",
        "            return st[0:i] + st[i:len(st)] + st[0:i][::-1]"
      ],
      "execution_count": 0,
      "outputs": []
    },
    {
      "cell_type": "markdown",
      "metadata": {
        "id": "rbxTRiO4DdWy",
        "colab_type": "text"
      },
      "source": [
        "[46] Elections are in progress!\n",
        "Given an array of the numbers of votes given to each of the candidates so far, and an integer k equal to the number of voters who haven't cast their vote yet, find the number of candidates who still have a chance to win the election.\n",
        "The winner of the election must secure strictly more votes than any other candidate. If two or more candidates receive the same (maximum) number of votes, assume there is no winner at all."
      ]
    },
    {
      "cell_type": "code",
      "metadata": {
        "id": "2nOaSz4lcbfS",
        "colab_type": "code",
        "colab": {}
      },
      "source": [
        "def electionsWinners(v, k):\n",
        "  \n",
        "  c = 0\n",
        "  \n",
        "  m = max(v)\n",
        "\n",
        "  if k == 0 and v.count(m) == 1:\n",
        "    c = 1\n",
        "\n",
        "  for i in v:\n",
        "    if i+k > m : \n",
        "      c += 1\n",
        "\n",
        "  return c\n"
      ],
      "execution_count": 0,
      "outputs": []
    },
    {
      "cell_type": "code",
      "metadata": {
        "id": "QsK0-df8gzCt",
        "colab_type": "code",
        "colab": {}
      },
      "source": [
        "#best code\n",
        "def electionsWinners(v, k):\n",
        "    m = max(v)\n",
        "    \n",
        "    return int(v.count(m) == 1) if k == 0 else len([n for n in v if m < n + k])"
      ],
      "execution_count": 0,
      "outputs": []
    },
    {
      "cell_type": "markdown",
      "metadata": {
        "id": "xZL1R6_ihUPH",
        "colab_type": "text"
      },
      "source": [
        "[47] A media access control address (MAC address) is a unique identifier assigned to network interfaces for communications on the physical network segment.\n",
        "The standard (IEEE 802) format for printing MAC-48 addresses in human-friendly form is six groups of two hexadecimal digits (0 to 9 or A to F), separated by hyphens (e.g. 01-23-45-67-89-AB).\n",
        "Your task is to check by given string inputString whether it corresponds to MAC-48 address or not."
      ]
    },
    {
      "cell_type": "code",
      "metadata": {
        "id": "oWdoZ1WznOfw",
        "colab_type": "code",
        "colab": {}
      },
      "source": [
        "def isMAC48Address(s):\n",
        "  # 길이가 17인지 확인\n",
        "  if len(s) != 17:\n",
        "    return False\n",
        "\n",
        "  # 문자범위 검사 1~9,A~F\n",
        "  for i in range(len(s)):\n",
        "    # 아스키 코드 변환\n",
        "    o = ord(s[i])\n",
        "\n",
        "    # 문자열의 3의 배수자리가 '-'일때는 그냥 넘어감\n",
        "    if (i+1) % 3 == 0:\n",
        "      if s[i] == '-':\n",
        "        pass\n",
        "      else:\n",
        "        return False\n",
        "\n",
        "    # 나머지 문자열이 범위안에 드는지 확인\n",
        "    else:\n",
        "      if 47 < o < 58 or 64 < o < 71:\n",
        "        pass\n",
        "      else:\n",
        "        return False\n",
        "\n",
        "  return True"
      ],
      "execution_count": 0,
      "outputs": []
    },
    {
      "cell_type": "code",
      "metadata": {
        "id": "mNT50a9ynsCe",
        "colab_type": "code",
        "colab": {}
      },
      "source": [
        "#best code\n",
        "def isMAC48Address(s):\n",
        "    return bool(re.match(('^' + '[\\dA-F]{2}-' * 6)[:-1] + '$', s))"
      ],
      "execution_count": 0,
      "outputs": []
    },
    {
      "cell_type": "markdown",
      "metadata": {
        "id": "BYFfPSLIqYAl",
        "colab_type": "text"
      },
      "source": [
        "[48] Determine if the given character is a digit or not."
      ]
    },
    {
      "cell_type": "code",
      "metadata": {
        "id": "Ex38Fqa_qbJv",
        "colab_type": "code",
        "outputId": "77300664-c5df-4a77-a267-402a392a6ac4",
        "colab": {
          "base_uri": "https://localhost:8080/",
          "height": 34
        }
      },
      "source": [
        "def isDigit(s):\n",
        "    return s.isdigit()"
      ],
      "execution_count": 0,
      "outputs": [
        {
          "output_type": "execute_result",
          "data": {
            "text/plain": [
              "True"
            ]
          },
          "metadata": {
            "tags": []
          },
          "execution_count": 95
        }
      ]
    },
    {
      "cell_type": "code",
      "metadata": {
        "id": "oAZ8DOl3qbHg",
        "colab_type": "code",
        "colab": {}
      },
      "source": [
        "#best code\n",
        "def isDigit(symbol):\n",
        "    return symbol.isdigit()"
      ],
      "execution_count": 0,
      "outputs": []
    },
    {
      "cell_type": "markdown",
      "metadata": {
        "id": "5_RHTBSVybsj",
        "colab_type": "text"
      },
      "source": [
        "[49] Given a string, return its encoding defined as follows:\n",
        "First, the string is divided into the least possible number of disjoint substrings consisting of identical characters\n",
        "for example, \"aabbbc\" is divided into [\"aa\", \"bbb\", \"c\"]\n",
        "Next, each substring with length greater than one is replaced with a concatenation of its length and the repeating character\n",
        "for example, substring \"bbb\" is replaced by \"3b\"\n",
        "Finally, all the new strings are concatenated together in the same order and a new string is returned."
      ]
    },
    {
      "cell_type": "code",
      "metadata": {
        "id": "IRYB206Fza6-",
        "colab_type": "code",
        "colab": {}
      },
      "source": [
        "def lineEncoding(s):\n",
        "  \n",
        "  c = 1\n",
        "  #반복되는 수와 문자를 받을 리스트\n",
        "  num = []\n",
        "  char = []\n",
        "\n",
        "  for i in range(len(s)-1):\n",
        "    \n",
        "    if s[i] == s[i+1]:\n",
        "      c += 1\n",
        "    else:\n",
        "      num.append(c)\n",
        "      char.append(s[i])\n",
        "      c = 1\n",
        "\n",
        "    #마지막 수 처리\n",
        "    if (i+1) == len(s)-1:\n",
        "      if s[i] == s[i+1]:\n",
        "        num.append(c)\n",
        "        char.append(s[i])\n",
        "      else:\n",
        "        num.append(c)\n",
        "        char.append(s[i+1])\n",
        "\n",
        "  #결과 값 받기\n",
        "  ans = []\n",
        "\n",
        "  for i in range(len(num)):\n",
        "    if num[i] != 1:\n",
        "      ans.append(num[i])\n",
        "    ans.append(char[i])\n",
        "\n",
        "  #문자열로 변환\n",
        "  ans_s = \"\"\n",
        "  for a in ans:\n",
        "    ans_s += str(a)\n",
        "\n",
        "  return ans_s"
      ],
      "execution_count": 0,
      "outputs": []
    },
    {
      "cell_type": "code",
      "metadata": {
        "id": "gIvrUYb_2F4f",
        "colab_type": "code",
        "colab": {}
      },
      "source": [
        "#best code\n",
        "from itertools import groupby\n",
        "def lineEncoding(s):\n",
        "    x = ''\n",
        "    for k,g in groupby(s):\n",
        "        y = len((list(g)))\n",
        "        if y==1:\n",
        "            x += k\n",
        "        else:\n",
        "            x += str(y) + k\n",
        "    return x"
      ],
      "execution_count": 0,
      "outputs": []
    },
    {
      "cell_type": "markdown",
      "metadata": {
        "id": "HmQ5UVYWII9W",
        "colab_type": "text"
      },
      "source": [
        "[50] Given a position of a knight on the standard chessboard, find the number of different moves the knight can perform.\n",
        "The knight can move to a square that is two squares horizontally and one square vertically, or two squares vertically and one square horizontally away from it. The complete move therefore looks like the letter L. Check out the image below to see all valid moves for a knight piece that is placed on one of the central squares."
      ]
    },
    {
      "cell_type": "code",
      "metadata": {
        "id": "5ng2UtWJN-bU",
        "colab_type": "code",
        "colab": {}
      },
      "source": [
        "def calcul1(a,b):\n",
        "  c = 0\n",
        "  if (a + 2) <= 8:\n",
        "    if (b + 1) <= 8:\n",
        "      c += 1\n",
        "    if (b - 1) >= 1:\n",
        "      c += 1\n",
        "  return c\n",
        "\n",
        "def calcul2(a,b):\n",
        "  c = 0\n",
        "  if (a - 2) >= 1:\n",
        "    if (b + 1) <= 8:\n",
        "      c += 1\n",
        "    if (b - 1) >= 1:\n",
        "      c += 1\n",
        "  return c\n",
        "\n",
        "\n",
        "def chessKnight(s):\n",
        "  total = 0\n",
        "\n",
        "  #체스판에 행,열을 맞춰준다.\n",
        "  row = ord(s[0]) - 96 #a:97 ~ h:104\n",
        "  col = int(s[1])\n",
        "\n",
        "  #위 좌우, 오른쪽 위아래\n",
        "  total += calcul1(col,row)\n",
        "  total += calcul1(row,col)\n",
        "  #아래 좌우, 왼쪽 위아래\n",
        "  total += calcul2(col,row)\n",
        "  total += calcul2(row,col)\n",
        "\n",
        "  return total"
      ],
      "execution_count": 0,
      "outputs": []
    },
    {
      "cell_type": "code",
      "metadata": {
        "id": "a7u0zCtQPGwL",
        "colab_type": "code",
        "colab": {}
      },
      "source": [
        "#best code\n",
        "def chessKnight(c):\n",
        "    x,y = ord(c[0])-96, int(c[1])\n",
        "    return sum([1<=(x+i)<=8 and 1<=(y+j)<=8 for i in [-2,-1,1,2] for j in [-2,-1,1,2]])//2"
      ],
      "execution_count": 0,
      "outputs": []
    },
    {
      "cell_type": "markdown",
      "metadata": {
        "id": "igxG99wDPY_S",
        "colab_type": "text"
      },
      "source": [
        "[51] Given some integer, find the maximal number you can obtain by deleting exactly one digit of the given number."
      ]
    },
    {
      "cell_type": "code",
      "metadata": {
        "id": "clfAEGc6PdJ9",
        "colab_type": "code",
        "colab": {}
      },
      "source": [
        "def deleteDigit(n):\n",
        "  \n",
        "  s = list(str(n))\n",
        "  m = []\n",
        "\n",
        "  for i in  range(len(s)):\n",
        "    #값 한개 제거\n",
        "    s1 = s.copy()\n",
        "    del s1[i]\n",
        "\n",
        "    #정수로 바꿔서 리스트에 저장\n",
        "    s2 = \"\"\n",
        "    for j in s1:\n",
        "      s2 += j\n",
        "\n",
        "    m.append(s2)\n",
        "\n",
        "  return int(max(m))"
      ],
      "execution_count": 0,
      "outputs": []
    },
    {
      "cell_type": "code",
      "metadata": {
        "id": "SN95fBFmUH_Y",
        "colab_type": "code",
        "colab": {}
      },
      "source": [
        "#best code\n",
        "def deleteDigit(n):\n",
        "    n = str(n)\n",
        "    return max(int(''.join(n[:i]+n[i+1:])) for i in range(len(n)))"
      ],
      "execution_count": 0,
      "outputs": []
    },
    {
      "cell_type": "markdown",
      "metadata": {
        "id": "v8dekByDeKys",
        "colab_type": "text"
      },
      "source": [
        "[52] Define a word as a sequence of consecutive English letters. Find the longest word from the given string."
      ]
    },
    {
      "cell_type": "code",
      "metadata": {
        "id": "EyHOPLxWgodk",
        "colab_type": "code",
        "colab": {}
      },
      "source": [
        "def longestWord(s):\n",
        "  s1 = []\n",
        "\n",
        "  #특수문자를 공백으로 바꿈\n",
        "  for i in range(len(s)):\n",
        "    num = ord(s[i])\n",
        "    if 65 <= num <= 90 or 97 <= num <= 122:\n",
        "      s1.append(s[i])\n",
        "    else:\n",
        "      s1.append(\" \")\n",
        "\n",
        "  #특수문자를 제거한 리스트를 문자열로 바꿈\n",
        "  s2 = \"\"\n",
        "  for i in s1:\n",
        "    s2 += i \n",
        "  s3 = s2.split(' ')\n",
        "\n",
        "  #가장 긴 문자열을 찾음\n",
        "  index = 0\n",
        "  for i in range(len(s3)):\n",
        "    if len(s3[index]) < len(s3[i]):\n",
        "      index = i\n",
        "\n",
        "  return s3[index]"
      ],
      "execution_count": 0,
      "outputs": []
    },
    {
      "cell_type": "code",
      "metadata": {
        "id": "Ew6aLP4Lo1fr",
        "colab_type": "code",
        "colab": {}
      },
      "source": [
        "#best code\n",
        "def longestWord(text):\n",
        "    return max(re.split('[^a-zA-Z]', text), key=len)"
      ],
      "execution_count": 0,
      "outputs": []
    },
    {
      "cell_type": "markdown",
      "metadata": {
        "id": "w2xB1yero98J",
        "colab_type": "text"
      },
      "source": [
        "[53] Check if the given string is a correct time representation of the 24-hour clock."
      ]
    },
    {
      "cell_type": "code",
      "metadata": {
        "id": "L8nlxYX8o13c",
        "colab_type": "code",
        "outputId": "8ae3527c-15b3-4e16-bdc4-62cb69e5fc62",
        "colab": {
          "base_uri": "https://localhost:8080/",
          "height": 34
        }
      },
      "source": [
        "def validTime(t):\n",
        "  time = t.split(\":\")\n",
        "  if 0 <= int(time[0]) < 24 and 0 <= int(time[1]) < 60:\n",
        "    return True\n",
        "  else:\n",
        "    return False"
      ],
      "execution_count": 0,
      "outputs": [
        {
          "output_type": "stream",
          "text": [
            "True\n"
          ],
          "name": "stdout"
        }
      ]
    },
    {
      "cell_type": "code",
      "metadata": {
        "id": "Y2DAI_jOo1yK",
        "colab_type": "code",
        "colab": {}
      },
      "source": [
        "def validTime(time):\n",
        "    h,m=map(int,time.split(\":\"))\n",
        "    return 0<=h<24 and 0<=m<60"
      ],
      "execution_count": 0,
      "outputs": []
    },
    {
      "cell_type": "markdown",
      "metadata": {
        "id": "r6kyTM9trcKv",
        "colab_type": "text"
      },
      "source": [
        "[54] CodeMaster has just returned from shopping. He scanned the check of the items he bought and gave the resulting string to Ratiorg to figure out the total number of purchased items. Since Ratiorg is a bot he is definitely going to automate it, so he needs a program that sums up all the numbers which appear in the given input.\n",
        "Help Ratiorg by writing a function that returns the sum of numbers that appear in the given inputString."
      ]
    },
    {
      "cell_type": "code",
      "metadata": {
        "id": "P_9y5HEorcaO",
        "colab_type": "code",
        "outputId": "bebe7cdf-551e-4870-d28b-cf2c3c41cc70",
        "colab": {
          "base_uri": "https://localhost:8080/",
          "height": 34
        }
      },
      "source": [
        "def sumUpNumbers(s):\n",
        "\n",
        "  s1 = []\n",
        "  c = 0\n",
        "  #문자 제거\n",
        "  for i in range(len(s)):\n",
        "    if s[i].isdigit():\n",
        "      s1.append(s[i])\n",
        "    else:\n",
        "      s1.append(\" \")\n",
        "\n",
        "  #문자열로 바꿔서 숫자만 남김\n",
        "  s2 = \"\"\n",
        "  for i in s1:\n",
        "    s2 += i\n",
        "\n",
        "  s3 = s2.split(\" \")\n",
        "  s4 = []\n",
        "  for i in s3:\n",
        "    if i.isdigit():\n",
        "      s4.append(i)\n",
        "\n",
        "  #숫자를 모두 더함\n",
        "  s_sum = 0\n",
        "  for i in s4:\n",
        "    s_sum += int(i)\n",
        "\n",
        "  return s_sum"
      ],
      "execution_count": 0,
      "outputs": [
        {
          "output_type": "execute_result",
          "data": {
            "text/plain": [
              "6587"
            ]
          },
          "metadata": {
            "tags": []
          },
          "execution_count": 73
        }
      ]
    },
    {
      "cell_type": "code",
      "metadata": {
        "id": "wQNQTq8orckI",
        "colab_type": "code",
        "outputId": "caa5a722-ce22-4041-c71c-1473c526300f",
        "colab": {
          "base_uri": "https://localhost:8080/",
          "height": 34
        }
      },
      "source": [
        "#best code\n",
        "def sumUpNumbers(inputString):\n",
        "    l = re.findall(r\"\\d+\",inputString)\n",
        "    return sum([int(i) for i in l])"
      ],
      "execution_count": 0,
      "outputs": [
        {
          "output_type": "execute_result",
          "data": {
            "text/plain": [
              "True"
            ]
          },
          "metadata": {
            "tags": []
          },
          "execution_count": 47
        }
      ]
    },
    {
      "cell_type": "markdown",
      "metadata": {
        "id": "KFGHTzOT_EZX",
        "colab_type": "text"
      },
      "source": [
        "[55] Given a rectangular matrix containing only digits, calculate the number of different 2 × 2 squares in it."
      ]
    },
    {
      "cell_type": "code",
      "metadata": {
        "id": "BDTdX-Lz_Eoj",
        "colab_type": "code",
        "outputId": "a493734e-9ddd-4284-f843-dfca7bdcdf63",
        "colab": {
          "base_uri": "https://localhost:8080/",
          "height": 35
        }
      },
      "source": [
        "def differentSquares(m):\n",
        "  #2행2열씩 리스트에 담기\n",
        "  m2 = []\n",
        "\n",
        "  for r in range(len(m)-1):\n",
        "    for c in range(len(m[0])-1):\n",
        "      m1 = []\n",
        "      m1.append(m[r][c])\n",
        "      m1.append(m[r][c+1])\n",
        "      m1.append(m[r+1][c])\n",
        "      m1.append(m[r+1][c+1])\n",
        "      m2.append(m1)\n",
        "\n",
        "  #2차원 배열 1차원 배열로 변경\n",
        "  m3 = []\n",
        "\n",
        "  for i in range(len(m2)):\n",
        "    s = \"\"\n",
        "    for j in range(len(m2[0])):\n",
        "      s += str(m2[i][j])\n",
        "    m3.append(s)\n",
        "\n",
        "  #중복제거\n",
        "  return len(set(m3))"
      ],
      "execution_count": 0,
      "outputs": [
        {
          "output_type": "execute_result",
          "data": {
            "text/plain": [
              "{'1222', '2122', '2212', '2222', '2223', '2321'}"
            ]
          },
          "metadata": {
            "tags": []
          },
          "execution_count": 26
        }
      ]
    },
    {
      "cell_type": "code",
      "metadata": {
        "id": "cLJ3yYkd_EsU",
        "colab_type": "code",
        "colab": {}
      },
      "source": [
        "#best code\n",
        "def differentSquares(matrix):\n",
        "    s = set()\n",
        "    for i in range(len(matrix) - 1):\n",
        "        for j in range(len(matrix[i]) - 1):\n",
        "                s.add((matrix[i][j], matrix[i][j+1], matrix[i+1][j], matrix[i+1][j+1]))\n",
        "    return len(s)"
      ],
      "execution_count": 0,
      "outputs": []
    },
    {
      "cell_type": "markdown",
      "metadata": {
        "id": "0l4yci7zLeIu",
        "colab_type": "text"
      },
      "source": [
        "[56] Given an integer product, find the smallest positive (i.e. greater than 0) integer the product of whose digits is equal to product. If there is no such integer, return -1 instead."
      ]
    },
    {
      "cell_type": "code",
      "metadata": {
        "id": "_rX_wGUx2wYT",
        "colab_type": "code",
        "colab": {}
      },
      "source": [
        "def digitsProduct(p):\n",
        "  \n",
        "  #예외 처리\n",
        "  if p == 1:\n",
        "    return 1\n",
        "\n",
        "  if p == 0:\n",
        "    return 10\n",
        "\n",
        "  #약수 구하기\n",
        "  li = []\n",
        "\n",
        "  while(1):\n",
        "    \n",
        "    for i in range(9,1,-1):\n",
        "      if p % i == 0:\n",
        "        p /= i\n",
        "        li.append(i)\n",
        "        break\n",
        "    else:\n",
        "      return -1\n",
        "    \n",
        "    if p == 1:\n",
        "      break\n",
        "\n",
        "  #최솟값 구하기\n",
        "  return int(''.join(map(str,sorted(li))))"
      ],
      "execution_count": 0,
      "outputs": []
    },
    {
      "cell_type": "code",
      "metadata": {
        "id": "_IeHadYbxCE2",
        "colab_type": "code",
        "colab": {}
      },
      "source": [
        "#best code\n",
        "def digitsProduct(p):\n",
        "    if p == 0: return 10\n",
        "    for i in range(3600):\n",
        "        a = 1\n",
        "        for j in str(i):\n",
        "            a *= int(j)\n",
        "        if a == p: return i\n",
        "    return -1"
      ],
      "execution_count": 0,
      "outputs": []
    },
    {
      "cell_type": "markdown",
      "metadata": {
        "id": "AIuAArgz5FL5",
        "colab_type": "text"
      },
      "source": [
        "[57] You are given an array of desired filenames in the order of their creation. Since two files cannot have equal names, the one which comes later will have an addition to its name in a form of (k), where k is the smallest positive integer such that the obtained name is not used yet.\n",
        "Return an array of names that will be given to the files."
      ]
    },
    {
      "cell_type": "code",
      "metadata": {
        "id": "M6yxpbkHVRmb",
        "colab_type": "code",
        "colab": {}
      },
      "source": [
        "def fileNaming(s):\n",
        "  for i in range(len(s)):\n",
        "    #s[i] 이전까지의 값을 체크해서 중복된 값이 있는지 확인\n",
        "    if s[i] in s[:i]:\n",
        "      #중복된 값이 있다면 뒤에 (1) 를 붙여줌\n",
        "      c = 1\n",
        "      #만약 이미 (1)이 뒤에 있다면 c의 값을 더해줌\n",
        "      while s[i] + \"(\" + str(c) + \")\" in s[:i]:\n",
        "        c += 1\n",
        "      #뒤에 (c)를 붙여줌\n",
        "      s[i] += \"(\" + str(c) + \")\"\n",
        "\n",
        "  return s"
      ],
      "execution_count": 0,
      "outputs": []
    },
    {
      "cell_type": "code",
      "metadata": {
        "id": "B5JCTF1Ao2UT",
        "colab_type": "code",
        "colab": {}
      },
      "source": [
        "#best code\n",
        "def fileNaming(n):\n",
        "    for i in range(len(n)):\n",
        "        if n[i] in n[:i]:\n",
        "            j = 1\n",
        "            while n[i]+\"(\"+str(j)+\")\" in n[:i]:\n",
        "                j += 1\n",
        "            n[i] += \"(\"+str(j)+\")\"\n",
        "    return n"
      ],
      "execution_count": 0,
      "outputs": []
    }
  ]
}